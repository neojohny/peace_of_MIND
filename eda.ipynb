{
 "cells": [
  {
   "cell_type": "code",
   "execution_count": 1,
   "metadata": {},
   "outputs": [],
   "source": [
    "import pandas as pd\n",
    "import numpy as np\n",
    "import json"
   ]
  },
  {
   "cell_type": "markdown",
   "metadata": {},
   "source": [
    "#### users"
   ]
  },
  {
   "cell_type": "code",
   "execution_count": 2,
   "metadata": {},
   "outputs": [],
   "source": [
    "behaviors = pd.read_csv('MINDsmall_train/behaviors.tsv', delimiter='\\t', header=None, index_col=0)"
   ]
  },
  {
   "cell_type": "code",
   "execution_count": 3,
   "metadata": {},
   "outputs": [
    {
     "data": {
      "text/html": [
       "<div>\n",
       "<style scoped>\n",
       "    .dataframe tbody tr th:only-of-type {\n",
       "        vertical-align: middle;\n",
       "    }\n",
       "\n",
       "    .dataframe tbody tr th {\n",
       "        vertical-align: top;\n",
       "    }\n",
       "\n",
       "    .dataframe thead th {\n",
       "        text-align: right;\n",
       "    }\n",
       "</style>\n",
       "<table border=\"1\" class=\"dataframe\">\n",
       "  <thead>\n",
       "    <tr style=\"text-align: right;\">\n",
       "      <th></th>\n",
       "      <th>1</th>\n",
       "      <th>2</th>\n",
       "      <th>3</th>\n",
       "      <th>4</th>\n",
       "    </tr>\n",
       "    <tr>\n",
       "      <th>0</th>\n",
       "      <th></th>\n",
       "      <th></th>\n",
       "      <th></th>\n",
       "      <th></th>\n",
       "    </tr>\n",
       "  </thead>\n",
       "  <tbody>\n",
       "    <tr>\n",
       "      <th>1</th>\n",
       "      <td>U13740</td>\n",
       "      <td>11/11/2019 9:05:58 AM</td>\n",
       "      <td>N55189 N42782 N34694 N45794 N18445 N63302 N104...</td>\n",
       "      <td>N55689-1 N35729-0</td>\n",
       "    </tr>\n",
       "    <tr>\n",
       "      <th>2</th>\n",
       "      <td>U91836</td>\n",
       "      <td>11/12/2019 6:11:30 PM</td>\n",
       "      <td>N31739 N6072 N63045 N23979 N35656 N43353 N8129...</td>\n",
       "      <td>N20678-0 N39317-0 N58114-0 N20495-0 N42977-0 N...</td>\n",
       "    </tr>\n",
       "    <tr>\n",
       "      <th>3</th>\n",
       "      <td>U73700</td>\n",
       "      <td>11/14/2019 7:01:48 AM</td>\n",
       "      <td>N10732 N25792 N7563 N21087 N41087 N5445 N60384...</td>\n",
       "      <td>N50014-0 N23877-0 N35389-0 N49712-0 N16844-0 N...</td>\n",
       "    </tr>\n",
       "    <tr>\n",
       "      <th>4</th>\n",
       "      <td>U34670</td>\n",
       "      <td>11/11/2019 5:28:05 AM</td>\n",
       "      <td>N45729 N2203 N871 N53880 N41375 N43142 N33013 ...</td>\n",
       "      <td>N35729-0 N33632-0 N49685-1 N27581-0</td>\n",
       "    </tr>\n",
       "    <tr>\n",
       "      <th>5</th>\n",
       "      <td>U8125</td>\n",
       "      <td>11/12/2019 4:11:21 PM</td>\n",
       "      <td>N10078 N56514 N14904 N33740</td>\n",
       "      <td>N39985-0 N36050-0 N16096-0 N8400-1 N22407-0 N6...</td>\n",
       "    </tr>\n",
       "  </tbody>\n",
       "</table>\n",
       "</div>"
      ],
      "text/plain": [
       "        1                      2  \\\n",
       "0                                  \n",
       "1  U13740  11/11/2019 9:05:58 AM   \n",
       "2  U91836  11/12/2019 6:11:30 PM   \n",
       "3  U73700  11/14/2019 7:01:48 AM   \n",
       "4  U34670  11/11/2019 5:28:05 AM   \n",
       "5   U8125  11/12/2019 4:11:21 PM   \n",
       "\n",
       "                                                   3  \\\n",
       "0                                                      \n",
       "1  N55189 N42782 N34694 N45794 N18445 N63302 N104...   \n",
       "2  N31739 N6072 N63045 N23979 N35656 N43353 N8129...   \n",
       "3  N10732 N25792 N7563 N21087 N41087 N5445 N60384...   \n",
       "4  N45729 N2203 N871 N53880 N41375 N43142 N33013 ...   \n",
       "5                        N10078 N56514 N14904 N33740   \n",
       "\n",
       "                                                   4  \n",
       "0                                                     \n",
       "1                                  N55689-1 N35729-0  \n",
       "2  N20678-0 N39317-0 N58114-0 N20495-0 N42977-0 N...  \n",
       "3  N50014-0 N23877-0 N35389-0 N49712-0 N16844-0 N...  \n",
       "4                N35729-0 N33632-0 N49685-1 N27581-0  \n",
       "5  N39985-0 N36050-0 N16096-0 N8400-1 N22407-0 N6...  "
      ]
     },
     "execution_count": 3,
     "metadata": {},
     "output_type": "execute_result"
    }
   ],
   "source": [
    "\n",
    "behaviors.head()"
   ]
  },
  {
   "cell_type": "code",
   "execution_count": null,
   "metadata": {},
   "outputs": [],
   "source": []
  },
  {
   "cell_type": "code",
   "execution_count": 5,
   "metadata": {},
   "outputs": [
    {
     "data": {
      "text/plain": [
       "1    False\n",
       "2    False\n",
       "3     True\n",
       "4    False\n",
       "dtype: bool"
      ]
     },
     "execution_count": 5,
     "metadata": {},
     "output_type": "execute_result"
    }
   ],
   "source": [
    "behaviors.isna().any()"
   ]
  },
  {
   "cell_type": "code",
   "execution_count": 6,
   "metadata": {},
   "outputs": [
    {
     "data": {
      "text/plain": [
       "'N20678-0 N39317-0 N58114-0 N20495-0 N42977-0 N22407-0 N14592-0 N17059-1 N33677-0 N7821-0 N6890-0'"
      ]
     },
     "execution_count": 6,
     "metadata": {},
     "output_type": "execute_result"
    }
   ],
   "source": [
    "behaviors.iloc[1,3]"
   ]
  },
  {
   "cell_type": "code",
   "execution_count": 7,
   "metadata": {},
   "outputs": [
    {
     "data": {
      "text/html": [
       "<div>\n",
       "<style scoped>\n",
       "    .dataframe tbody tr th:only-of-type {\n",
       "        vertical-align: middle;\n",
       "    }\n",
       "\n",
       "    .dataframe tbody tr th {\n",
       "        vertical-align: top;\n",
       "    }\n",
       "\n",
       "    .dataframe thead th {\n",
       "        text-align: right;\n",
       "    }\n",
       "</style>\n",
       "<table border=\"1\" class=\"dataframe\">\n",
       "  <thead>\n",
       "    <tr style=\"text-align: right;\">\n",
       "      <th></th>\n",
       "      <th>1</th>\n",
       "      <th>2</th>\n",
       "      <th>3</th>\n",
       "      <th>4</th>\n",
       "    </tr>\n",
       "    <tr>\n",
       "      <th>0</th>\n",
       "      <th></th>\n",
       "      <th></th>\n",
       "      <th></th>\n",
       "      <th></th>\n",
       "    </tr>\n",
       "  </thead>\n",
       "  <tbody>\n",
       "    <tr>\n",
       "      <th>29</th>\n",
       "      <td>U33207</td>\n",
       "      <td>11/11/2019 11:09:14 AM</td>\n",
       "      <td>NaN</td>\n",
       "      <td>N62212-0 N27521-0 N28983-0 N12028-0 N25437-0 N...</td>\n",
       "    </tr>\n",
       "    <tr>\n",
       "      <th>97</th>\n",
       "      <td>U89839</td>\n",
       "      <td>11/11/2019 4:57:51 AM</td>\n",
       "      <td>NaN</td>\n",
       "      <td>N12042-0 N35729-0 N49685-0 N62729-1</td>\n",
       "    </tr>\n",
       "    <tr>\n",
       "      <th>156</th>\n",
       "      <td>U5598</td>\n",
       "      <td>11/13/2019 2:01:40 PM</td>\n",
       "      <td>NaN</td>\n",
       "      <td>N7121-0 N37437-0 N53861-0 N45891-0 N21141-0 N5...</td>\n",
       "    </tr>\n",
       "    <tr>\n",
       "      <th>195</th>\n",
       "      <td>U19208</td>\n",
       "      <td>11/11/2019 3:57:34 PM</td>\n",
       "      <td>NaN</td>\n",
       "      <td>N23414-1 N52474-0 N6099-0 N5980-0 N1914-0</td>\n",
       "    </tr>\n",
       "    <tr>\n",
       "      <th>258</th>\n",
       "      <td>U6879</td>\n",
       "      <td>11/14/2019 5:33:52 PM</td>\n",
       "      <td>NaN</td>\n",
       "      <td>N9284-0 N23391-0 N42849-0 N33828-0 N57081-0 N2...</td>\n",
       "    </tr>\n",
       "    <tr>\n",
       "      <th>...</th>\n",
       "      <td>...</td>\n",
       "      <td>...</td>\n",
       "      <td>...</td>\n",
       "      <td>...</td>\n",
       "    </tr>\n",
       "    <tr>\n",
       "      <th>156851</th>\n",
       "      <td>U85936</td>\n",
       "      <td>11/10/2019 8:52:02 AM</td>\n",
       "      <td>NaN</td>\n",
       "      <td>N41140-1 N4148-0</td>\n",
       "    </tr>\n",
       "    <tr>\n",
       "      <th>156891</th>\n",
       "      <td>U4828</td>\n",
       "      <td>11/11/2019 9:41:21 AM</td>\n",
       "      <td>NaN</td>\n",
       "      <td>N8957-0 N60162-0 N16804-0 N24180-0 N31370-0 N2...</td>\n",
       "    </tr>\n",
       "    <tr>\n",
       "      <th>156898</th>\n",
       "      <td>U38290</td>\n",
       "      <td>11/14/2019 3:50:07 PM</td>\n",
       "      <td>NaN</td>\n",
       "      <td>N59267-0 N12446-0 N53031-0 N3380-0 N56211-0 N5...</td>\n",
       "    </tr>\n",
       "    <tr>\n",
       "      <th>156922</th>\n",
       "      <td>U64209</td>\n",
       "      <td>11/11/2019 7:11:07 AM</td>\n",
       "      <td>NaN</td>\n",
       "      <td>N35729-0 N15830-0 N48759-0 N21519-1 N27581-0 N...</td>\n",
       "    </tr>\n",
       "    <tr>\n",
       "      <th>156936</th>\n",
       "      <td>U35188</td>\n",
       "      <td>11/11/2019 1:39:46 PM</td>\n",
       "      <td>NaN</td>\n",
       "      <td>N13930-0 N55204-0 N38662-0 N53585-1 N55689-0</td>\n",
       "    </tr>\n",
       "  </tbody>\n",
       "</table>\n",
       "<p>3238 rows × 4 columns</p>\n",
       "</div>"
      ],
      "text/plain": [
       "             1                       2    3  \\\n",
       "0                                             \n",
       "29      U33207  11/11/2019 11:09:14 AM  NaN   \n",
       "97      U89839   11/11/2019 4:57:51 AM  NaN   \n",
       "156      U5598   11/13/2019 2:01:40 PM  NaN   \n",
       "195     U19208   11/11/2019 3:57:34 PM  NaN   \n",
       "258      U6879   11/14/2019 5:33:52 PM  NaN   \n",
       "...        ...                     ...  ...   \n",
       "156851  U85936   11/10/2019 8:52:02 AM  NaN   \n",
       "156891   U4828   11/11/2019 9:41:21 AM  NaN   \n",
       "156898  U38290   11/14/2019 3:50:07 PM  NaN   \n",
       "156922  U64209   11/11/2019 7:11:07 AM  NaN   \n",
       "156936  U35188   11/11/2019 1:39:46 PM  NaN   \n",
       "\n",
       "                                                        4  \n",
       "0                                                          \n",
       "29      N62212-0 N27521-0 N28983-0 N12028-0 N25437-0 N...  \n",
       "97                    N12042-0 N35729-0 N49685-0 N62729-1  \n",
       "156     N7121-0 N37437-0 N53861-0 N45891-0 N21141-0 N5...  \n",
       "195             N23414-1 N52474-0 N6099-0 N5980-0 N1914-0  \n",
       "258     N9284-0 N23391-0 N42849-0 N33828-0 N57081-0 N2...  \n",
       "...                                                   ...  \n",
       "156851                                   N41140-1 N4148-0  \n",
       "156891  N8957-0 N60162-0 N16804-0 N24180-0 N31370-0 N2...  \n",
       "156898  N59267-0 N12446-0 N53031-0 N3380-0 N56211-0 N5...  \n",
       "156922  N35729-0 N15830-0 N48759-0 N21519-1 N27581-0 N...  \n",
       "156936       N13930-0 N55204-0 N38662-0 N53585-1 N55689-0  \n",
       "\n",
       "[3238 rows x 4 columns]"
      ]
     },
     "execution_count": 7,
     "metadata": {},
     "output_type": "execute_result"
    }
   ],
   "source": [
    "behaviors[behaviors.isna().any(axis=1)]"
   ]
  },
  {
   "cell_type": "code",
   "execution_count": 9,
   "metadata": {},
   "outputs": [
    {
     "data": {
      "text/html": [
       "<div>\n",
       "<style scoped>\n",
       "    .dataframe tbody tr th:only-of-type {\n",
       "        vertical-align: middle;\n",
       "    }\n",
       "\n",
       "    .dataframe tbody tr th {\n",
       "        vertical-align: top;\n",
       "    }\n",
       "\n",
       "    .dataframe thead th {\n",
       "        text-align: right;\n",
       "    }\n",
       "</style>\n",
       "<table border=\"1\" class=\"dataframe\">\n",
       "  <thead>\n",
       "    <tr style=\"text-align: right;\">\n",
       "      <th></th>\n",
       "      <th>1</th>\n",
       "      <th>2</th>\n",
       "      <th>3</th>\n",
       "      <th>4</th>\n",
       "    </tr>\n",
       "    <tr>\n",
       "      <th>0</th>\n",
       "      <th></th>\n",
       "      <th></th>\n",
       "      <th></th>\n",
       "      <th></th>\n",
       "    </tr>\n",
       "  </thead>\n",
       "  <tbody>\n",
       "    <tr>\n",
       "      <th>29</th>\n",
       "      <td>U33207</td>\n",
       "      <td>11/11/2019 11:09:14 AM</td>\n",
       "      <td>NaN</td>\n",
       "      <td>N62212-0 N27521-0 N28983-0 N12028-0 N25437-0 N...</td>\n",
       "    </tr>\n",
       "    <tr>\n",
       "      <th>97</th>\n",
       "      <td>U89839</td>\n",
       "      <td>11/11/2019 4:57:51 AM</td>\n",
       "      <td>NaN</td>\n",
       "      <td>N12042-0 N35729-0 N49685-0 N62729-1</td>\n",
       "    </tr>\n",
       "    <tr>\n",
       "      <th>156</th>\n",
       "      <td>U5598</td>\n",
       "      <td>11/13/2019 2:01:40 PM</td>\n",
       "      <td>NaN</td>\n",
       "      <td>N7121-0 N37437-0 N53861-0 N45891-0 N21141-0 N5...</td>\n",
       "    </tr>\n",
       "    <tr>\n",
       "      <th>195</th>\n",
       "      <td>U19208</td>\n",
       "      <td>11/11/2019 3:57:34 PM</td>\n",
       "      <td>NaN</td>\n",
       "      <td>N23414-1 N52474-0 N6099-0 N5980-0 N1914-0</td>\n",
       "    </tr>\n",
       "    <tr>\n",
       "      <th>258</th>\n",
       "      <td>U6879</td>\n",
       "      <td>11/14/2019 5:33:52 PM</td>\n",
       "      <td>NaN</td>\n",
       "      <td>N9284-0 N23391-0 N42849-0 N33828-0 N57081-0 N2...</td>\n",
       "    </tr>\n",
       "    <tr>\n",
       "      <th>...</th>\n",
       "      <td>...</td>\n",
       "      <td>...</td>\n",
       "      <td>...</td>\n",
       "      <td>...</td>\n",
       "    </tr>\n",
       "    <tr>\n",
       "      <th>156851</th>\n",
       "      <td>U85936</td>\n",
       "      <td>11/10/2019 8:52:02 AM</td>\n",
       "      <td>NaN</td>\n",
       "      <td>N41140-1 N4148-0</td>\n",
       "    </tr>\n",
       "    <tr>\n",
       "      <th>156891</th>\n",
       "      <td>U4828</td>\n",
       "      <td>11/11/2019 9:41:21 AM</td>\n",
       "      <td>NaN</td>\n",
       "      <td>N8957-0 N60162-0 N16804-0 N24180-0 N31370-0 N2...</td>\n",
       "    </tr>\n",
       "    <tr>\n",
       "      <th>156898</th>\n",
       "      <td>U38290</td>\n",
       "      <td>11/14/2019 3:50:07 PM</td>\n",
       "      <td>NaN</td>\n",
       "      <td>N59267-0 N12446-0 N53031-0 N3380-0 N56211-0 N5...</td>\n",
       "    </tr>\n",
       "    <tr>\n",
       "      <th>156922</th>\n",
       "      <td>U64209</td>\n",
       "      <td>11/11/2019 7:11:07 AM</td>\n",
       "      <td>NaN</td>\n",
       "      <td>N35729-0 N15830-0 N48759-0 N21519-1 N27581-0 N...</td>\n",
       "    </tr>\n",
       "    <tr>\n",
       "      <th>156936</th>\n",
       "      <td>U35188</td>\n",
       "      <td>11/11/2019 1:39:46 PM</td>\n",
       "      <td>NaN</td>\n",
       "      <td>N13930-0 N55204-0 N38662-0 N53585-1 N55689-0</td>\n",
       "    </tr>\n",
       "  </tbody>\n",
       "</table>\n",
       "<p>3238 rows × 4 columns</p>\n",
       "</div>"
      ],
      "text/plain": [
       "             1                       2    3  \\\n",
       "0                                             \n",
       "29      U33207  11/11/2019 11:09:14 AM  NaN   \n",
       "97      U89839   11/11/2019 4:57:51 AM  NaN   \n",
       "156      U5598   11/13/2019 2:01:40 PM  NaN   \n",
       "195     U19208   11/11/2019 3:57:34 PM  NaN   \n",
       "258      U6879   11/14/2019 5:33:52 PM  NaN   \n",
       "...        ...                     ...  ...   \n",
       "156851  U85936   11/10/2019 8:52:02 AM  NaN   \n",
       "156891   U4828   11/11/2019 9:41:21 AM  NaN   \n",
       "156898  U38290   11/14/2019 3:50:07 PM  NaN   \n",
       "156922  U64209   11/11/2019 7:11:07 AM  NaN   \n",
       "156936  U35188   11/11/2019 1:39:46 PM  NaN   \n",
       "\n",
       "                                                        4  \n",
       "0                                                          \n",
       "29      N62212-0 N27521-0 N28983-0 N12028-0 N25437-0 N...  \n",
       "97                    N12042-0 N35729-0 N49685-0 N62729-1  \n",
       "156     N7121-0 N37437-0 N53861-0 N45891-0 N21141-0 N5...  \n",
       "195             N23414-1 N52474-0 N6099-0 N5980-0 N1914-0  \n",
       "258     N9284-0 N23391-0 N42849-0 N33828-0 N57081-0 N2...  \n",
       "...                                                   ...  \n",
       "156851                                   N41140-1 N4148-0  \n",
       "156891  N8957-0 N60162-0 N16804-0 N24180-0 N31370-0 N2...  \n",
       "156898  N59267-0 N12446-0 N53031-0 N3380-0 N56211-0 N5...  \n",
       "156922  N35729-0 N15830-0 N48759-0 N21519-1 N27581-0 N...  \n",
       "156936       N13930-0 N55204-0 N38662-0 N53585-1 N55689-0  \n",
       "\n",
       "[3238 rows x 4 columns]"
      ]
     },
     "execution_count": 9,
     "metadata": {},
     "output_type": "execute_result"
    }
   ],
   "source": [
    "behaviors[behaviors.iloc[:,2:3].isna().any(axis=1)]"
   ]
  },
  {
   "cell_type": "code",
   "execution_count": 10,
   "metadata": {},
   "outputs": [
    {
     "data": {
      "text/plain": [
       "3    True\n",
       "dtype: bool"
      ]
     },
     "execution_count": 10,
     "metadata": {},
     "output_type": "execute_result"
    }
   ],
   "source": [
    "behaviors.iloc[:,2:3].isna().any()"
   ]
  },
  {
   "cell_type": "code",
   "execution_count": 11,
   "metadata": {},
   "outputs": [
    {
     "data": {
      "text/html": [
       "<div>\n",
       "<style scoped>\n",
       "    .dataframe tbody tr th:only-of-type {\n",
       "        vertical-align: middle;\n",
       "    }\n",
       "\n",
       "    .dataframe tbody tr th {\n",
       "        vertical-align: top;\n",
       "    }\n",
       "\n",
       "    .dataframe thead th {\n",
       "        text-align: right;\n",
       "    }\n",
       "</style>\n",
       "<table border=\"1\" class=\"dataframe\">\n",
       "  <thead>\n",
       "    <tr style=\"text-align: right;\">\n",
       "      <th></th>\n",
       "      <th>1</th>\n",
       "      <th>2</th>\n",
       "      <th>3</th>\n",
       "      <th>4</th>\n",
       "    </tr>\n",
       "    <tr>\n",
       "      <th>0</th>\n",
       "      <th></th>\n",
       "      <th></th>\n",
       "      <th></th>\n",
       "      <th></th>\n",
       "    </tr>\n",
       "  </thead>\n",
       "  <tbody>\n",
       "    <tr>\n",
       "      <th>29</th>\n",
       "      <td>U33207</td>\n",
       "      <td>11/11/2019 11:09:14 AM</td>\n",
       "      <td>NaN</td>\n",
       "      <td>N62212-0 N27521-0 N28983-0 N12028-0 N25437-0 N...</td>\n",
       "    </tr>\n",
       "    <tr>\n",
       "      <th>97</th>\n",
       "      <td>U89839</td>\n",
       "      <td>11/11/2019 4:57:51 AM</td>\n",
       "      <td>NaN</td>\n",
       "      <td>N12042-0 N35729-0 N49685-0 N62729-1</td>\n",
       "    </tr>\n",
       "    <tr>\n",
       "      <th>156</th>\n",
       "      <td>U5598</td>\n",
       "      <td>11/13/2019 2:01:40 PM</td>\n",
       "      <td>NaN</td>\n",
       "      <td>N7121-0 N37437-0 N53861-0 N45891-0 N21141-0 N5...</td>\n",
       "    </tr>\n",
       "    <tr>\n",
       "      <th>195</th>\n",
       "      <td>U19208</td>\n",
       "      <td>11/11/2019 3:57:34 PM</td>\n",
       "      <td>NaN</td>\n",
       "      <td>N23414-1 N52474-0 N6099-0 N5980-0 N1914-0</td>\n",
       "    </tr>\n",
       "    <tr>\n",
       "      <th>258</th>\n",
       "      <td>U6879</td>\n",
       "      <td>11/14/2019 5:33:52 PM</td>\n",
       "      <td>NaN</td>\n",
       "      <td>N9284-0 N23391-0 N42849-0 N33828-0 N57081-0 N2...</td>\n",
       "    </tr>\n",
       "    <tr>\n",
       "      <th>...</th>\n",
       "      <td>...</td>\n",
       "      <td>...</td>\n",
       "      <td>...</td>\n",
       "      <td>...</td>\n",
       "    </tr>\n",
       "    <tr>\n",
       "      <th>156851</th>\n",
       "      <td>U85936</td>\n",
       "      <td>11/10/2019 8:52:02 AM</td>\n",
       "      <td>NaN</td>\n",
       "      <td>N41140-1 N4148-0</td>\n",
       "    </tr>\n",
       "    <tr>\n",
       "      <th>156891</th>\n",
       "      <td>U4828</td>\n",
       "      <td>11/11/2019 9:41:21 AM</td>\n",
       "      <td>NaN</td>\n",
       "      <td>N8957-0 N60162-0 N16804-0 N24180-0 N31370-0 N2...</td>\n",
       "    </tr>\n",
       "    <tr>\n",
       "      <th>156898</th>\n",
       "      <td>U38290</td>\n",
       "      <td>11/14/2019 3:50:07 PM</td>\n",
       "      <td>NaN</td>\n",
       "      <td>N59267-0 N12446-0 N53031-0 N3380-0 N56211-0 N5...</td>\n",
       "    </tr>\n",
       "    <tr>\n",
       "      <th>156922</th>\n",
       "      <td>U64209</td>\n",
       "      <td>11/11/2019 7:11:07 AM</td>\n",
       "      <td>NaN</td>\n",
       "      <td>N35729-0 N15830-0 N48759-0 N21519-1 N27581-0 N...</td>\n",
       "    </tr>\n",
       "    <tr>\n",
       "      <th>156936</th>\n",
       "      <td>U35188</td>\n",
       "      <td>11/11/2019 1:39:46 PM</td>\n",
       "      <td>NaN</td>\n",
       "      <td>N13930-0 N55204-0 N38662-0 N53585-1 N55689-0</td>\n",
       "    </tr>\n",
       "  </tbody>\n",
       "</table>\n",
       "<p>3238 rows × 4 columns</p>\n",
       "</div>"
      ],
      "text/plain": [
       "             1                       2    3  \\\n",
       "0                                             \n",
       "29      U33207  11/11/2019 11:09:14 AM  NaN   \n",
       "97      U89839   11/11/2019 4:57:51 AM  NaN   \n",
       "156      U5598   11/13/2019 2:01:40 PM  NaN   \n",
       "195     U19208   11/11/2019 3:57:34 PM  NaN   \n",
       "258      U6879   11/14/2019 5:33:52 PM  NaN   \n",
       "...        ...                     ...  ...   \n",
       "156851  U85936   11/10/2019 8:52:02 AM  NaN   \n",
       "156891   U4828   11/11/2019 9:41:21 AM  NaN   \n",
       "156898  U38290   11/14/2019 3:50:07 PM  NaN   \n",
       "156922  U64209   11/11/2019 7:11:07 AM  NaN   \n",
       "156936  U35188   11/11/2019 1:39:46 PM  NaN   \n",
       "\n",
       "                                                        4  \n",
       "0                                                          \n",
       "29      N62212-0 N27521-0 N28983-0 N12028-0 N25437-0 N...  \n",
       "97                    N12042-0 N35729-0 N49685-0 N62729-1  \n",
       "156     N7121-0 N37437-0 N53861-0 N45891-0 N21141-0 N5...  \n",
       "195             N23414-1 N52474-0 N6099-0 N5980-0 N1914-0  \n",
       "258     N9284-0 N23391-0 N42849-0 N33828-0 N57081-0 N2...  \n",
       "...                                                   ...  \n",
       "156851                                   N41140-1 N4148-0  \n",
       "156891  N8957-0 N60162-0 N16804-0 N24180-0 N31370-0 N2...  \n",
       "156898  N59267-0 N12446-0 N53031-0 N3380-0 N56211-0 N5...  \n",
       "156922  N35729-0 N15830-0 N48759-0 N21519-1 N27581-0 N...  \n",
       "156936       N13930-0 N55204-0 N38662-0 N53585-1 N55689-0  \n",
       "\n",
       "[3238 rows x 4 columns]"
      ]
     },
     "execution_count": 11,
     "metadata": {},
     "output_type": "execute_result"
    }
   ],
   "source": [
    "behaviors[behaviors.iloc[:,2:3].isna().any(axis=1)]"
   ]
  },
  {
   "cell_type": "code",
   "execution_count": 12,
   "metadata": {},
   "outputs": [
    {
     "data": {
      "text/plain": [
       "(156965, 4)"
      ]
     },
     "execution_count": 12,
     "metadata": {},
     "output_type": "execute_result"
    }
   ],
   "source": [
    "behaviors.shape"
   ]
  },
  {
   "cell_type": "markdown",
   "metadata": {},
   "source": [
    "##### no user history"
   ]
  },
  {
   "cell_type": "code",
   "execution_count": 16,
   "metadata": {},
   "outputs": [
    {
     "data": {
      "text/html": [
       "<div>\n",
       "<style scoped>\n",
       "    .dataframe tbody tr th:only-of-type {\n",
       "        vertical-align: middle;\n",
       "    }\n",
       "\n",
       "    .dataframe tbody tr th {\n",
       "        vertical-align: top;\n",
       "    }\n",
       "\n",
       "    .dataframe thead th {\n",
       "        text-align: right;\n",
       "    }\n",
       "</style>\n",
       "<table border=\"1\" class=\"dataframe\">\n",
       "  <thead>\n",
       "    <tr style=\"text-align: right;\">\n",
       "      <th></th>\n",
       "      <th>1</th>\n",
       "      <th>2</th>\n",
       "      <th>3</th>\n",
       "      <th>4</th>\n",
       "    </tr>\n",
       "    <tr>\n",
       "      <th>0</th>\n",
       "      <th></th>\n",
       "      <th></th>\n",
       "      <th></th>\n",
       "      <th></th>\n",
       "    </tr>\n",
       "  </thead>\n",
       "  <tbody>\n",
       "    <tr>\n",
       "      <th>29</th>\n",
       "      <td>U33207</td>\n",
       "      <td>11/11/2019 11:09:14 AM</td>\n",
       "      <td>NaN</td>\n",
       "      <td>N62212-0 N27521-0 N28983-0 N12028-0 N25437-0 N...</td>\n",
       "    </tr>\n",
       "    <tr>\n",
       "      <th>97</th>\n",
       "      <td>U89839</td>\n",
       "      <td>11/11/2019 4:57:51 AM</td>\n",
       "      <td>NaN</td>\n",
       "      <td>N12042-0 N35729-0 N49685-0 N62729-1</td>\n",
       "    </tr>\n",
       "    <tr>\n",
       "      <th>156</th>\n",
       "      <td>U5598</td>\n",
       "      <td>11/13/2019 2:01:40 PM</td>\n",
       "      <td>NaN</td>\n",
       "      <td>N7121-0 N37437-0 N53861-0 N45891-0 N21141-0 N5...</td>\n",
       "    </tr>\n",
       "    <tr>\n",
       "      <th>195</th>\n",
       "      <td>U19208</td>\n",
       "      <td>11/11/2019 3:57:34 PM</td>\n",
       "      <td>NaN</td>\n",
       "      <td>N23414-1 N52474-0 N6099-0 N5980-0 N1914-0</td>\n",
       "    </tr>\n",
       "    <tr>\n",
       "      <th>258</th>\n",
       "      <td>U6879</td>\n",
       "      <td>11/14/2019 5:33:52 PM</td>\n",
       "      <td>NaN</td>\n",
       "      <td>N9284-0 N23391-0 N42849-0 N33828-0 N57081-0 N2...</td>\n",
       "    </tr>\n",
       "    <tr>\n",
       "      <th>...</th>\n",
       "      <td>...</td>\n",
       "      <td>...</td>\n",
       "      <td>...</td>\n",
       "      <td>...</td>\n",
       "    </tr>\n",
       "    <tr>\n",
       "      <th>156851</th>\n",
       "      <td>U85936</td>\n",
       "      <td>11/10/2019 8:52:02 AM</td>\n",
       "      <td>NaN</td>\n",
       "      <td>N41140-1 N4148-0</td>\n",
       "    </tr>\n",
       "    <tr>\n",
       "      <th>156891</th>\n",
       "      <td>U4828</td>\n",
       "      <td>11/11/2019 9:41:21 AM</td>\n",
       "      <td>NaN</td>\n",
       "      <td>N8957-0 N60162-0 N16804-0 N24180-0 N31370-0 N2...</td>\n",
       "    </tr>\n",
       "    <tr>\n",
       "      <th>156898</th>\n",
       "      <td>U38290</td>\n",
       "      <td>11/14/2019 3:50:07 PM</td>\n",
       "      <td>NaN</td>\n",
       "      <td>N59267-0 N12446-0 N53031-0 N3380-0 N56211-0 N5...</td>\n",
       "    </tr>\n",
       "    <tr>\n",
       "      <th>156922</th>\n",
       "      <td>U64209</td>\n",
       "      <td>11/11/2019 7:11:07 AM</td>\n",
       "      <td>NaN</td>\n",
       "      <td>N35729-0 N15830-0 N48759-0 N21519-1 N27581-0 N...</td>\n",
       "    </tr>\n",
       "    <tr>\n",
       "      <th>156936</th>\n",
       "      <td>U35188</td>\n",
       "      <td>11/11/2019 1:39:46 PM</td>\n",
       "      <td>NaN</td>\n",
       "      <td>N13930-0 N55204-0 N38662-0 N53585-1 N55689-0</td>\n",
       "    </tr>\n",
       "  </tbody>\n",
       "</table>\n",
       "<p>3238 rows × 4 columns</p>\n",
       "</div>"
      ],
      "text/plain": [
       "             1                       2    3  \\\n",
       "0                                             \n",
       "29      U33207  11/11/2019 11:09:14 AM  NaN   \n",
       "97      U89839   11/11/2019 4:57:51 AM  NaN   \n",
       "156      U5598   11/13/2019 2:01:40 PM  NaN   \n",
       "195     U19208   11/11/2019 3:57:34 PM  NaN   \n",
       "258      U6879   11/14/2019 5:33:52 PM  NaN   \n",
       "...        ...                     ...  ...   \n",
       "156851  U85936   11/10/2019 8:52:02 AM  NaN   \n",
       "156891   U4828   11/11/2019 9:41:21 AM  NaN   \n",
       "156898  U38290   11/14/2019 3:50:07 PM  NaN   \n",
       "156922  U64209   11/11/2019 7:11:07 AM  NaN   \n",
       "156936  U35188   11/11/2019 1:39:46 PM  NaN   \n",
       "\n",
       "                                                        4  \n",
       "0                                                          \n",
       "29      N62212-0 N27521-0 N28983-0 N12028-0 N25437-0 N...  \n",
       "97                    N12042-0 N35729-0 N49685-0 N62729-1  \n",
       "156     N7121-0 N37437-0 N53861-0 N45891-0 N21141-0 N5...  \n",
       "195             N23414-1 N52474-0 N6099-0 N5980-0 N1914-0  \n",
       "258     N9284-0 N23391-0 N42849-0 N33828-0 N57081-0 N2...  \n",
       "...                                                   ...  \n",
       "156851                                   N41140-1 N4148-0  \n",
       "156891  N8957-0 N60162-0 N16804-0 N24180-0 N31370-0 N2...  \n",
       "156898  N59267-0 N12446-0 N53031-0 N3380-0 N56211-0 N5...  \n",
       "156922  N35729-0 N15830-0 N48759-0 N21519-1 N27581-0 N...  \n",
       "156936       N13930-0 N55204-0 N38662-0 N53585-1 N55689-0  \n",
       "\n",
       "[3238 rows x 4 columns]"
      ]
     },
     "execution_count": 16,
     "metadata": {},
     "output_type": "execute_result"
    }
   ],
   "source": [
    "behaviors[behaviors.iloc[:,2:3].isna().any(axis=1)]"
   ]
  },
  {
   "cell_type": "markdown",
   "metadata": {},
   "source": [
    "##### NAs have no history at all"
   ]
  },
  {
   "cell_type": "code",
   "execution_count": 18,
   "metadata": {},
   "outputs": [
    {
     "data": {
      "text/plain": [
       "set()"
      ]
     },
     "execution_count": 18,
     "metadata": {},
     "output_type": "execute_result"
    }
   ],
   "source": [
    "na_index = set(behaviors.loc[behaviors.iloc[:,2:3].isna().any(axis=1),1]) \n",
    "valid_index = set(behaviors.loc[~behaviors.iloc[:,2:3].isna().any(axis=1),1]) \n",
    "na_index&valid_index"
   ]
  },
  {
   "cell_type": "code",
   "execution_count": 19,
   "metadata": {},
   "outputs": [
    {
     "data": {
      "text/plain": [
       "array([nan], dtype=object)"
      ]
     },
     "execution_count": 19,
     "metadata": {},
     "output_type": "execute_result"
    }
   ],
   "source": [
    "behaviors[behaviors[1].isin(na_index)].iloc[:,2].unique()"
   ]
  },
  {
   "cell_type": "code",
   "execution_count": 20,
   "metadata": {},
   "outputs": [
    {
     "data": {
      "text/plain": [
       "-3238"
      ]
     },
     "execution_count": 20,
     "metadata": {},
     "output_type": "execute_result"
    }
   ],
   "source": [
    "behaviors.dropna().shape[0]-behaviors.shape[0]"
   ]
  },
  {
   "cell_type": "code",
   "execution_count": 21,
   "metadata": {},
   "outputs": [],
   "source": [
    "behaviors.dropna(inplace=True)"
   ]
  },
  {
   "cell_type": "markdown",
   "metadata": {},
   "source": [
    "##### add impression, history and ctr"
   ]
  },
  {
   "cell_type": "code",
   "execution_count": 22,
   "metadata": {},
   "outputs": [],
   "source": [
    "def find_clicks(impression):\n",
    "    impression = impression.split()\n",
    "    imp = [int(i[-1]) for i in impression]\n",
    "    return sum(imp)/len(imp)\n",
    "def find_impress(impression):\n",
    "    impression = impression.split()\n",
    "    imp = [int(i[-1]) for i in impression]\n",
    "    return len(imp)"
   ]
  },
  {
   "cell_type": "code",
   "execution_count": 23,
   "metadata": {},
   "outputs": [],
   "source": [
    "behaviors['ctr'] = behaviors.iloc[:,3].apply(find_clicks)\n",
    "behaviors['impress']=behaviors.iloc[:,3].apply(find_impress)\n",
    "behaviors['history']=behaviors.iloc[:,2].apply(find_impress)"
   ]
  },
  {
   "cell_type": "code",
   "execution_count": 24,
   "metadata": {},
   "outputs": [
    {
     "data": {
      "text/plain": [
       "'N20678-0 N39317-0 N58114-0 N20495-0 N42977-0 N22407-0 N14592-0 N17059-1 N33677-0 N7821-0 N6890-0'"
      ]
     },
     "execution_count": 24,
     "metadata": {},
     "output_type": "execute_result"
    }
   ],
   "source": [
    "behaviors.iloc[1,3]"
   ]
  },
  {
   "cell_type": "code",
   "execution_count": 25,
   "metadata": {},
   "outputs": [
    {
     "data": {
      "text/html": [
       "<div>\n",
       "<style scoped>\n",
       "    .dataframe tbody tr th:only-of-type {\n",
       "        vertical-align: middle;\n",
       "    }\n",
       "\n",
       "    .dataframe tbody tr th {\n",
       "        vertical-align: top;\n",
       "    }\n",
       "\n",
       "    .dataframe thead th {\n",
       "        text-align: right;\n",
       "    }\n",
       "</style>\n",
       "<table border=\"1\" class=\"dataframe\">\n",
       "  <thead>\n",
       "    <tr style=\"text-align: right;\">\n",
       "      <th></th>\n",
       "      <th>1</th>\n",
       "      <th>2</th>\n",
       "      <th>3</th>\n",
       "      <th>4</th>\n",
       "      <th>ctr</th>\n",
       "      <th>impress</th>\n",
       "      <th>history</th>\n",
       "    </tr>\n",
       "    <tr>\n",
       "      <th>0</th>\n",
       "      <th></th>\n",
       "      <th></th>\n",
       "      <th></th>\n",
       "      <th></th>\n",
       "      <th></th>\n",
       "      <th></th>\n",
       "      <th></th>\n",
       "    </tr>\n",
       "  </thead>\n",
       "  <tbody>\n",
       "    <tr>\n",
       "      <th>1</th>\n",
       "      <td>U13740</td>\n",
       "      <td>11/11/2019 9:05:58 AM</td>\n",
       "      <td>N55189 N42782 N34694 N45794 N18445 N63302 N104...</td>\n",
       "      <td>N55689-1 N35729-0</td>\n",
       "      <td>0.500000</td>\n",
       "      <td>2</td>\n",
       "      <td>9</td>\n",
       "    </tr>\n",
       "    <tr>\n",
       "      <th>2</th>\n",
       "      <td>U91836</td>\n",
       "      <td>11/12/2019 6:11:30 PM</td>\n",
       "      <td>N31739 N6072 N63045 N23979 N35656 N43353 N8129...</td>\n",
       "      <td>N20678-0 N39317-0 N58114-0 N20495-0 N42977-0 N...</td>\n",
       "      <td>0.090909</td>\n",
       "      <td>11</td>\n",
       "      <td>82</td>\n",
       "    </tr>\n",
       "    <tr>\n",
       "      <th>3</th>\n",
       "      <td>U73700</td>\n",
       "      <td>11/14/2019 7:01:48 AM</td>\n",
       "      <td>N10732 N25792 N7563 N21087 N41087 N5445 N60384...</td>\n",
       "      <td>N50014-0 N23877-0 N35389-0 N49712-0 N16844-0 N...</td>\n",
       "      <td>0.027778</td>\n",
       "      <td>36</td>\n",
       "      <td>16</td>\n",
       "    </tr>\n",
       "    <tr>\n",
       "      <th>4</th>\n",
       "      <td>U34670</td>\n",
       "      <td>11/11/2019 5:28:05 AM</td>\n",
       "      <td>N45729 N2203 N871 N53880 N41375 N43142 N33013 ...</td>\n",
       "      <td>N35729-0 N33632-0 N49685-1 N27581-0</td>\n",
       "      <td>0.250000</td>\n",
       "      <td>4</td>\n",
       "      <td>10</td>\n",
       "    </tr>\n",
       "    <tr>\n",
       "      <th>5</th>\n",
       "      <td>U8125</td>\n",
       "      <td>11/12/2019 4:11:21 PM</td>\n",
       "      <td>N10078 N56514 N14904 N33740</td>\n",
       "      <td>N39985-0 N36050-0 N16096-0 N8400-1 N22407-0 N6...</td>\n",
       "      <td>0.014493</td>\n",
       "      <td>69</td>\n",
       "      <td>4</td>\n",
       "    </tr>\n",
       "    <tr>\n",
       "      <th>6</th>\n",
       "      <td>U19739</td>\n",
       "      <td>11/11/2019 6:52:13 PM</td>\n",
       "      <td>N39074 N14343 N32607 N32320 N22007 N442 N19001...</td>\n",
       "      <td>N21119-1 N53696-0 N33619-1 N25722-0 N2869-0</td>\n",
       "      <td>0.400000</td>\n",
       "      <td>5</td>\n",
       "      <td>36</td>\n",
       "    </tr>\n",
       "    <tr>\n",
       "      <th>7</th>\n",
       "      <td>U8355</td>\n",
       "      <td>11/11/2019 12:22:09 PM</td>\n",
       "      <td>N8419 N15771 N1431 N5888 N18663 N24123 N22130 ...</td>\n",
       "      <td>N51346-0 N33848-0 N15132-0 N10688-0 N6342-0 N6...</td>\n",
       "      <td>0.005780</td>\n",
       "      <td>173</td>\n",
       "      <td>35</td>\n",
       "    </tr>\n",
       "    <tr>\n",
       "      <th>8</th>\n",
       "      <td>U46596</td>\n",
       "      <td>11/12/2019 10:29:36 PM</td>\n",
       "      <td>N47438 N20950 N21317 N5469</td>\n",
       "      <td>N7821-0 N24898-0 N12029-0 N13579-0 N42977-0 N3...</td>\n",
       "      <td>0.142857</td>\n",
       "      <td>7</td>\n",
       "      <td>4</td>\n",
       "    </tr>\n",
       "    <tr>\n",
       "      <th>9</th>\n",
       "      <td>U79199</td>\n",
       "      <td>11/13/2019 10:13:02 AM</td>\n",
       "      <td>N37083 N459 N29499 N38118 N37378 N24691 N27235...</td>\n",
       "      <td>N51048-1 N64094-0 N13907-0 N39010-0</td>\n",
       "      <td>0.250000</td>\n",
       "      <td>4</td>\n",
       "      <td>19</td>\n",
       "    </tr>\n",
       "    <tr>\n",
       "      <th>10</th>\n",
       "      <td>U53231</td>\n",
       "      <td>11/11/2019 11:28:11 AM</td>\n",
       "      <td>N58936 N15919 N11917 N2153 N55312 N13008 N4142...</td>\n",
       "      <td>N53585-1 N55689-0</td>\n",
       "      <td>0.500000</td>\n",
       "      <td>2</td>\n",
       "      <td>28</td>\n",
       "    </tr>\n",
       "  </tbody>\n",
       "</table>\n",
       "</div>"
      ],
      "text/plain": [
       "         1                       2  \\\n",
       "0                                    \n",
       "1   U13740   11/11/2019 9:05:58 AM   \n",
       "2   U91836   11/12/2019 6:11:30 PM   \n",
       "3   U73700   11/14/2019 7:01:48 AM   \n",
       "4   U34670   11/11/2019 5:28:05 AM   \n",
       "5    U8125   11/12/2019 4:11:21 PM   \n",
       "6   U19739   11/11/2019 6:52:13 PM   \n",
       "7    U8355  11/11/2019 12:22:09 PM   \n",
       "8   U46596  11/12/2019 10:29:36 PM   \n",
       "9   U79199  11/13/2019 10:13:02 AM   \n",
       "10  U53231  11/11/2019 11:28:11 AM   \n",
       "\n",
       "                                                    3  \\\n",
       "0                                                       \n",
       "1   N55189 N42782 N34694 N45794 N18445 N63302 N104...   \n",
       "2   N31739 N6072 N63045 N23979 N35656 N43353 N8129...   \n",
       "3   N10732 N25792 N7563 N21087 N41087 N5445 N60384...   \n",
       "4   N45729 N2203 N871 N53880 N41375 N43142 N33013 ...   \n",
       "5                         N10078 N56514 N14904 N33740   \n",
       "6   N39074 N14343 N32607 N32320 N22007 N442 N19001...   \n",
       "7   N8419 N15771 N1431 N5888 N18663 N24123 N22130 ...   \n",
       "8                          N47438 N20950 N21317 N5469   \n",
       "9   N37083 N459 N29499 N38118 N37378 N24691 N27235...   \n",
       "10  N58936 N15919 N11917 N2153 N55312 N13008 N4142...   \n",
       "\n",
       "                                                    4       ctr  impress  \\\n",
       "0                                                                          \n",
       "1                                   N55689-1 N35729-0  0.500000        2   \n",
       "2   N20678-0 N39317-0 N58114-0 N20495-0 N42977-0 N...  0.090909       11   \n",
       "3   N50014-0 N23877-0 N35389-0 N49712-0 N16844-0 N...  0.027778       36   \n",
       "4                 N35729-0 N33632-0 N49685-1 N27581-0  0.250000        4   \n",
       "5   N39985-0 N36050-0 N16096-0 N8400-1 N22407-0 N6...  0.014493       69   \n",
       "6         N21119-1 N53696-0 N33619-1 N25722-0 N2869-0  0.400000        5   \n",
       "7   N51346-0 N33848-0 N15132-0 N10688-0 N6342-0 N6...  0.005780      173   \n",
       "8   N7821-0 N24898-0 N12029-0 N13579-0 N42977-0 N3...  0.142857        7   \n",
       "9                 N51048-1 N64094-0 N13907-0 N39010-0  0.250000        4   \n",
       "10                                  N53585-1 N55689-0  0.500000        2   \n",
       "\n",
       "    history  \n",
       "0            \n",
       "1         9  \n",
       "2        82  \n",
       "3        16  \n",
       "4        10  \n",
       "5         4  \n",
       "6        36  \n",
       "7        35  \n",
       "8         4  \n",
       "9        19  \n",
       "10       28  "
      ]
     },
     "execution_count": 25,
     "metadata": {},
     "output_type": "execute_result"
    }
   ],
   "source": [
    "behaviors.head(10)"
   ]
  },
  {
   "cell_type": "code",
   "execution_count": 26,
   "metadata": {},
   "outputs": [
    {
     "data": {
      "text/html": [
       "<div>\n",
       "<style scoped>\n",
       "    .dataframe tbody tr th:only-of-type {\n",
       "        vertical-align: middle;\n",
       "    }\n",
       "\n",
       "    .dataframe tbody tr th {\n",
       "        vertical-align: top;\n",
       "    }\n",
       "\n",
       "    .dataframe thead th {\n",
       "        text-align: right;\n",
       "    }\n",
       "</style>\n",
       "<table border=\"1\" class=\"dataframe\">\n",
       "  <thead>\n",
       "    <tr style=\"text-align: right;\">\n",
       "      <th></th>\n",
       "      <th>1</th>\n",
       "      <th>2</th>\n",
       "      <th>3</th>\n",
       "      <th>4</th>\n",
       "      <th>ctr</th>\n",
       "      <th>impress</th>\n",
       "      <th>history</th>\n",
       "    </tr>\n",
       "    <tr>\n",
       "      <th>0</th>\n",
       "      <th></th>\n",
       "      <th></th>\n",
       "      <th></th>\n",
       "      <th></th>\n",
       "      <th></th>\n",
       "      <th></th>\n",
       "      <th></th>\n",
       "    </tr>\n",
       "  </thead>\n",
       "  <tbody>\n",
       "    <tr>\n",
       "      <th>23642</th>\n",
       "      <td>U46319</td>\n",
       "      <td>11/10/2019 2:05:44 AM</td>\n",
       "      <td>N1150 N19638 N43028 N53419 N57680 N41899 N1110...</td>\n",
       "      <td>N57097-0 N1034-1 N64916-1 N61022-1</td>\n",
       "      <td>0.750000</td>\n",
       "      <td>4</td>\n",
       "      <td>39</td>\n",
       "    </tr>\n",
       "    <tr>\n",
       "      <th>88189</th>\n",
       "      <td>U32574</td>\n",
       "      <td>11/12/2019 10:45:26 AM</td>\n",
       "      <td>N62325 N11703 N1954 N33669 N2203 N8845 N60172 ...</td>\n",
       "      <td>N42634-0 N58363-1 N40839-1 N63970-1</td>\n",
       "      <td>0.750000</td>\n",
       "      <td>4</td>\n",
       "      <td>36</td>\n",
       "    </tr>\n",
       "    <tr>\n",
       "      <th>24757</th>\n",
       "      <td>U85878</td>\n",
       "      <td>11/12/2019 6:50:44 AM</td>\n",
       "      <td>N46911 N50155 N29177 N47069 N64521 N38629 N558...</td>\n",
       "      <td>N49180-1 N62360-0 N33619-1 N41020-1</td>\n",
       "      <td>0.750000</td>\n",
       "      <td>4</td>\n",
       "      <td>185</td>\n",
       "    </tr>\n",
       "    <tr>\n",
       "      <th>4607</th>\n",
       "      <td>U69244</td>\n",
       "      <td>11/12/2019 4:27:40 PM</td>\n",
       "      <td>N31739 N61103 N51618 N21178 N14914 N8148</td>\n",
       "      <td>N42977-1 N19092-1 N6890-1 N17059-0</td>\n",
       "      <td>0.750000</td>\n",
       "      <td>4</td>\n",
       "      <td>6</td>\n",
       "    </tr>\n",
       "    <tr>\n",
       "      <th>41798</th>\n",
       "      <td>U19176</td>\n",
       "      <td>11/12/2019 8:48:55 AM</td>\n",
       "      <td>N4020 N13137 N45794 N46392 N61455 N5978 N60184...</td>\n",
       "      <td>N63970-1 N41020-0 N62360-1 N20069-1 N33619-1 N...</td>\n",
       "      <td>0.700000</td>\n",
       "      <td>10</td>\n",
       "      <td>26</td>\n",
       "    </tr>\n",
       "    <tr>\n",
       "      <th>...</th>\n",
       "      <td>...</td>\n",
       "      <td>...</td>\n",
       "      <td>...</td>\n",
       "      <td>...</td>\n",
       "      <td>...</td>\n",
       "      <td>...</td>\n",
       "      <td>...</td>\n",
       "    </tr>\n",
       "    <tr>\n",
       "      <th>29490</th>\n",
       "      <td>U13824</td>\n",
       "      <td>11/12/2019 4:01:55 PM</td>\n",
       "      <td>N64555 N1529 N59691 N21576 N22161 N31134 N3510...</td>\n",
       "      <td>N15855-0 N18708-0 N64851-0 N44422-0 N34998-0 N...</td>\n",
       "      <td>0.003448</td>\n",
       "      <td>290</td>\n",
       "      <td>21</td>\n",
       "    </tr>\n",
       "    <tr>\n",
       "      <th>51392</th>\n",
       "      <td>U74572</td>\n",
       "      <td>11/14/2019 12:06:30 PM</td>\n",
       "      <td>N11068 N51934 N18881 N24920 N10059 N56549 N121...</td>\n",
       "      <td>N58264-0 N48077-0 N8559-0 N54348-0 N46821-0 N6...</td>\n",
       "      <td>0.003425</td>\n",
       "      <td>292</td>\n",
       "      <td>32</td>\n",
       "    </tr>\n",
       "    <tr>\n",
       "      <th>7557</th>\n",
       "      <td>U71968</td>\n",
       "      <td>11/11/2019 3:53:51 AM</td>\n",
       "      <td>N20925 N56698 N13480 N10270 N55743 N45909 N434...</td>\n",
       "      <td>N61688-0 N4912-0 N17965-0 N52203-0 N29128-0 N2...</td>\n",
       "      <td>0.003401</td>\n",
       "      <td>294</td>\n",
       "      <td>11</td>\n",
       "    </tr>\n",
       "    <tr>\n",
       "      <th>39615</th>\n",
       "      <td>U59269</td>\n",
       "      <td>11/10/2019 5:30:15 AM</td>\n",
       "      <td>N64390 N18138 N58936 N51998 N42842 N38118 N475...</td>\n",
       "      <td>N3925-0 N48476-1 N37377-0 N8519-0 N17087-0 N13...</td>\n",
       "      <td>0.003390</td>\n",
       "      <td>295</td>\n",
       "      <td>18</td>\n",
       "    </tr>\n",
       "    <tr>\n",
       "      <th>136301</th>\n",
       "      <td>U10634</td>\n",
       "      <td>11/11/2019 2:35:05 PM</td>\n",
       "      <td>N31900 N36739 N34933 N32830 N46597 N37509</td>\n",
       "      <td>N28542-0 N28047-0 N32087-0 N15435-0 N17140-0 N...</td>\n",
       "      <td>0.003367</td>\n",
       "      <td>297</td>\n",
       "      <td>6</td>\n",
       "    </tr>\n",
       "  </tbody>\n",
       "</table>\n",
       "<p>153727 rows × 7 columns</p>\n",
       "</div>"
      ],
      "text/plain": [
       "             1                       2  \\\n",
       "0                                        \n",
       "23642   U46319   11/10/2019 2:05:44 AM   \n",
       "88189   U32574  11/12/2019 10:45:26 AM   \n",
       "24757   U85878   11/12/2019 6:50:44 AM   \n",
       "4607    U69244   11/12/2019 4:27:40 PM   \n",
       "41798   U19176   11/12/2019 8:48:55 AM   \n",
       "...        ...                     ...   \n",
       "29490   U13824   11/12/2019 4:01:55 PM   \n",
       "51392   U74572  11/14/2019 12:06:30 PM   \n",
       "7557    U71968   11/11/2019 3:53:51 AM   \n",
       "39615   U59269   11/10/2019 5:30:15 AM   \n",
       "136301  U10634   11/11/2019 2:35:05 PM   \n",
       "\n",
       "                                                        3  \\\n",
       "0                                                           \n",
       "23642   N1150 N19638 N43028 N53419 N57680 N41899 N1110...   \n",
       "88189   N62325 N11703 N1954 N33669 N2203 N8845 N60172 ...   \n",
       "24757   N46911 N50155 N29177 N47069 N64521 N38629 N558...   \n",
       "4607             N31739 N61103 N51618 N21178 N14914 N8148   \n",
       "41798   N4020 N13137 N45794 N46392 N61455 N5978 N60184...   \n",
       "...                                                   ...   \n",
       "29490   N64555 N1529 N59691 N21576 N22161 N31134 N3510...   \n",
       "51392   N11068 N51934 N18881 N24920 N10059 N56549 N121...   \n",
       "7557    N20925 N56698 N13480 N10270 N55743 N45909 N434...   \n",
       "39615   N64390 N18138 N58936 N51998 N42842 N38118 N475...   \n",
       "136301          N31900 N36739 N34933 N32830 N46597 N37509   \n",
       "\n",
       "                                                        4       ctr  impress  \\\n",
       "0                                                                              \n",
       "23642                  N57097-0 N1034-1 N64916-1 N61022-1  0.750000        4   \n",
       "88189                 N42634-0 N58363-1 N40839-1 N63970-1  0.750000        4   \n",
       "24757                 N49180-1 N62360-0 N33619-1 N41020-1  0.750000        4   \n",
       "4607                   N42977-1 N19092-1 N6890-1 N17059-0  0.750000        4   \n",
       "41798   N63970-1 N41020-0 N62360-1 N20069-1 N33619-1 N...  0.700000       10   \n",
       "...                                                   ...       ...      ...   \n",
       "29490   N15855-0 N18708-0 N64851-0 N44422-0 N34998-0 N...  0.003448      290   \n",
       "51392   N58264-0 N48077-0 N8559-0 N54348-0 N46821-0 N6...  0.003425      292   \n",
       "7557    N61688-0 N4912-0 N17965-0 N52203-0 N29128-0 N2...  0.003401      294   \n",
       "39615   N3925-0 N48476-1 N37377-0 N8519-0 N17087-0 N13...  0.003390      295   \n",
       "136301  N28542-0 N28047-0 N32087-0 N15435-0 N17140-0 N...  0.003367      297   \n",
       "\n",
       "        history  \n",
       "0                \n",
       "23642        39  \n",
       "88189        36  \n",
       "24757       185  \n",
       "4607          6  \n",
       "41798        26  \n",
       "...         ...  \n",
       "29490        21  \n",
       "51392        32  \n",
       "7557         11  \n",
       "39615        18  \n",
       "136301        6  \n",
       "\n",
       "[153727 rows x 7 columns]"
      ]
     },
     "execution_count": 26,
     "metadata": {},
     "output_type": "execute_result"
    }
   ],
   "source": [
    "behaviors.sort_values('ctr',ascending=False)"
   ]
  },
  {
   "cell_type": "code",
   "execution_count": 27,
   "metadata": {},
   "outputs": [
    {
     "data": {
      "text/html": [
       "<div>\n",
       "<style scoped>\n",
       "    .dataframe tbody tr th:only-of-type {\n",
       "        vertical-align: middle;\n",
       "    }\n",
       "\n",
       "    .dataframe tbody tr th {\n",
       "        vertical-align: top;\n",
       "    }\n",
       "\n",
       "    .dataframe thead th {\n",
       "        text-align: right;\n",
       "    }\n",
       "</style>\n",
       "<table border=\"1\" class=\"dataframe\">\n",
       "  <thead>\n",
       "    <tr style=\"text-align: right;\">\n",
       "      <th></th>\n",
       "      <th>history</th>\n",
       "      <th>ctr</th>\n",
       "      <th>impress</th>\n",
       "    </tr>\n",
       "  </thead>\n",
       "  <tbody>\n",
       "    <tr>\n",
       "      <th>count</th>\n",
       "      <td>153727.000000</td>\n",
       "      <td>153727.000000</td>\n",
       "      <td>153727.000000</td>\n",
       "    </tr>\n",
       "    <tr>\n",
       "      <th>mean</th>\n",
       "      <td>33.225387</td>\n",
       "      <td>0.108548</td>\n",
       "      <td>37.228346</td>\n",
       "    </tr>\n",
       "    <tr>\n",
       "      <th>std</th>\n",
       "      <td>40.408679</td>\n",
       "      <td>0.129526</td>\n",
       "      <td>38.575186</td>\n",
       "    </tr>\n",
       "    <tr>\n",
       "      <th>min</th>\n",
       "      <td>1.000000</td>\n",
       "      <td>0.003367</td>\n",
       "      <td>2.000000</td>\n",
       "    </tr>\n",
       "    <tr>\n",
       "      <th>25%</th>\n",
       "      <td>8.000000</td>\n",
       "      <td>0.028571</td>\n",
       "      <td>10.000000</td>\n",
       "    </tr>\n",
       "    <tr>\n",
       "      <th>50%</th>\n",
       "      <td>20.000000</td>\n",
       "      <td>0.055556</td>\n",
       "      <td>24.000000</td>\n",
       "    </tr>\n",
       "    <tr>\n",
       "      <th>75%</th>\n",
       "      <td>43.000000</td>\n",
       "      <td>0.125000</td>\n",
       "      <td>51.000000</td>\n",
       "    </tr>\n",
       "    <tr>\n",
       "      <th>max</th>\n",
       "      <td>558.000000</td>\n",
       "      <td>0.750000</td>\n",
       "      <td>299.000000</td>\n",
       "    </tr>\n",
       "  </tbody>\n",
       "</table>\n",
       "</div>"
      ],
      "text/plain": [
       "             history            ctr        impress\n",
       "count  153727.000000  153727.000000  153727.000000\n",
       "mean       33.225387       0.108548      37.228346\n",
       "std        40.408679       0.129526      38.575186\n",
       "min         1.000000       0.003367       2.000000\n",
       "25%         8.000000       0.028571      10.000000\n",
       "50%        20.000000       0.055556      24.000000\n",
       "75%        43.000000       0.125000      51.000000\n",
       "max       558.000000       0.750000     299.000000"
      ]
     },
     "execution_count": 27,
     "metadata": {},
     "output_type": "execute_result"
    }
   ],
   "source": [
    "behaviors[['history','ctr','impress']].describe()"
   ]
  },
  {
   "cell_type": "code",
   "execution_count": 31,
   "metadata": {},
   "outputs": [
    {
     "data": {
      "text/plain": [
       "[1, 0]"
      ]
     },
     "execution_count": 31,
     "metadata": {},
     "output_type": "execute_result"
    }
   ],
   "source": [
    "[int(i[-1]) for i in behaviors.iloc[0,3].split()]"
   ]
  },
  {
   "cell_type": "code",
   "execution_count": 32,
   "metadata": {},
   "outputs": [
    {
     "data": {
      "text/plain": [
       "49108"
      ]
     },
     "execution_count": 32,
     "metadata": {},
     "output_type": "execute_result"
    }
   ],
   "source": [
    "len(behaviors.iloc[:,0].unique())"
   ]
  },
  {
   "cell_type": "code",
   "execution_count": null,
   "metadata": {},
   "outputs": [],
   "source": []
  },
  {
   "cell_type": "code",
   "execution_count": 33,
   "metadata": {},
   "outputs": [
    {
     "data": {
      "text/plain": [
       "'N55189 N42782 N34694 N45794 N18445 N63302 N10414 N19347 N31801'"
      ]
     },
     "execution_count": 33,
     "metadata": {},
     "output_type": "execute_result"
    }
   ],
   "source": [
    "behaviors.iloc[0,2]"
   ]
  },
  {
   "cell_type": "code",
   "execution_count": 34,
   "metadata": {},
   "outputs": [
    {
     "data": {
      "text/plain": [
       "Timestamp('2019-11-11 09:05:58')"
      ]
     },
     "execution_count": 34,
     "metadata": {},
     "output_type": "execute_result"
    }
   ],
   "source": [
    "\n",
    "pd.Timestamp(behaviors.iloc[0,1])"
   ]
  },
  {
   "cell_type": "code",
   "execution_count": 35,
   "metadata": {},
   "outputs": [
    {
     "data": {
      "text/plain": [
       "Timestamp('2019-11-11 09:05:58')"
      ]
     },
     "execution_count": 35,
     "metadata": {},
     "output_type": "execute_result"
    }
   ],
   "source": [
    "pd.to_datetime(behaviors.iloc[:,1]).iloc[0]"
   ]
  },
  {
   "cell_type": "code",
   "execution_count": 40,
   "metadata": {},
   "outputs": [
    {
     "data": {
      "text/plain": [
       "0\n",
       "1          True\n",
       "2         False\n",
       "3         False\n",
       "4         False\n",
       "5         False\n",
       "          ...  \n",
       "156961    False\n",
       "156962    False\n",
       "156963    False\n",
       "156964    False\n",
       "156965    False\n",
       "Name: 1, Length: 153727, dtype: bool"
      ]
     },
     "execution_count": 40,
     "metadata": {},
     "output_type": "execute_result"
    }
   ],
   "source": [
    "behaviors.iloc[:,0] == 'U13740'"
   ]
  },
  {
   "cell_type": "code",
   "execution_count": 41,
   "metadata": {},
   "outputs": [
    {
     "data": {
      "text/html": [
       "<div>\n",
       "<style scoped>\n",
       "    .dataframe tbody tr th:only-of-type {\n",
       "        vertical-align: middle;\n",
       "    }\n",
       "\n",
       "    .dataframe tbody tr th {\n",
       "        vertical-align: top;\n",
       "    }\n",
       "\n",
       "    .dataframe thead th {\n",
       "        text-align: right;\n",
       "    }\n",
       "</style>\n",
       "<table border=\"1\" class=\"dataframe\">\n",
       "  <thead>\n",
       "    <tr style=\"text-align: right;\">\n",
       "      <th></th>\n",
       "      <th>1</th>\n",
       "      <th>2</th>\n",
       "      <th>3</th>\n",
       "      <th>4</th>\n",
       "      <th>ctr</th>\n",
       "      <th>impress</th>\n",
       "      <th>history</th>\n",
       "    </tr>\n",
       "    <tr>\n",
       "      <th>0</th>\n",
       "      <th></th>\n",
       "      <th></th>\n",
       "      <th></th>\n",
       "      <th></th>\n",
       "      <th></th>\n",
       "      <th></th>\n",
       "      <th></th>\n",
       "    </tr>\n",
       "  </thead>\n",
       "  <tbody>\n",
       "    <tr>\n",
       "      <th>1</th>\n",
       "      <td>U13740</td>\n",
       "      <td>11/11/2019 9:05:58 AM</td>\n",
       "      <td>N55189 N42782 N34694 N45794 N18445 N63302 N104...</td>\n",
       "      <td>N55689-1 N35729-0</td>\n",
       "      <td>0.500000</td>\n",
       "      <td>2</td>\n",
       "      <td>9</td>\n",
       "    </tr>\n",
       "    <tr>\n",
       "      <th>35263</th>\n",
       "      <td>U13740</td>\n",
       "      <td>11/9/2019 5:59:43 AM</td>\n",
       "      <td>N55189 N42782 N34694 N45794 N18445 N63302 N104...</td>\n",
       "      <td>N20020-0 N3737-0 N43202-0 N18708-0 N30125-0 N3...</td>\n",
       "      <td>0.003472</td>\n",
       "      <td>288</td>\n",
       "      <td>9</td>\n",
       "    </tr>\n",
       "    <tr>\n",
       "      <th>154837</th>\n",
       "      <td>U13740</td>\n",
       "      <td>11/13/2019 3:27:40 PM</td>\n",
       "      <td>N55189 N42782 N34694 N45794 N18445 N63302 N104...</td>\n",
       "      <td>N13907-0 N8509-0 N47061-0 N51048-0 N22417-0 N3...</td>\n",
       "      <td>0.038462</td>\n",
       "      <td>26</td>\n",
       "      <td>9</td>\n",
       "    </tr>\n",
       "  </tbody>\n",
       "</table>\n",
       "</div>"
      ],
      "text/plain": [
       "             1                      2  \\\n",
       "0                                       \n",
       "1       U13740  11/11/2019 9:05:58 AM   \n",
       "35263   U13740   11/9/2019 5:59:43 AM   \n",
       "154837  U13740  11/13/2019 3:27:40 PM   \n",
       "\n",
       "                                                        3  \\\n",
       "0                                                           \n",
       "1       N55189 N42782 N34694 N45794 N18445 N63302 N104...   \n",
       "35263   N55189 N42782 N34694 N45794 N18445 N63302 N104...   \n",
       "154837  N55189 N42782 N34694 N45794 N18445 N63302 N104...   \n",
       "\n",
       "                                                        4       ctr  impress  \\\n",
       "0                                                                              \n",
       "1                                       N55689-1 N35729-0  0.500000        2   \n",
       "35263   N20020-0 N3737-0 N43202-0 N18708-0 N30125-0 N3...  0.003472      288   \n",
       "154837  N13907-0 N8509-0 N47061-0 N51048-0 N22417-0 N3...  0.038462       26   \n",
       "\n",
       "        history  \n",
       "0                \n",
       "1             9  \n",
       "35263         9  \n",
       "154837        9  "
      ]
     },
     "execution_count": 41,
     "metadata": {},
     "output_type": "execute_result"
    }
   ],
   "source": [
    "behaviors[behaviors.iloc[:,0] == 'U13740']"
   ]
  },
  {
   "cell_type": "code",
   "execution_count": null,
   "metadata": {},
   "outputs": [],
   "source": []
  },
  {
   "cell_type": "markdown",
   "metadata": {},
   "source": [
    "### news"
   ]
  },
  {
   "cell_type": "code",
   "execution_count": 115,
   "metadata": {},
   "outputs": [],
   "source": [
    "news = pd.read_csv('MINDsmall_train/news.tsv', delimiter='\\t', header=None, index_col=0)"
   ]
  },
  {
   "cell_type": "code",
   "execution_count": 43,
   "metadata": {},
   "outputs": [
    {
     "data": {
      "text/html": [
       "<div>\n",
       "<style scoped>\n",
       "    .dataframe tbody tr th:only-of-type {\n",
       "        vertical-align: middle;\n",
       "    }\n",
       "\n",
       "    .dataframe tbody tr th {\n",
       "        vertical-align: top;\n",
       "    }\n",
       "\n",
       "    .dataframe thead th {\n",
       "        text-align: right;\n",
       "    }\n",
       "</style>\n",
       "<table border=\"1\" class=\"dataframe\">\n",
       "  <thead>\n",
       "    <tr style=\"text-align: right;\">\n",
       "      <th></th>\n",
       "      <th>1</th>\n",
       "      <th>2</th>\n",
       "      <th>3</th>\n",
       "      <th>4</th>\n",
       "      <th>5</th>\n",
       "      <th>6</th>\n",
       "      <th>7</th>\n",
       "    </tr>\n",
       "    <tr>\n",
       "      <th>0</th>\n",
       "      <th></th>\n",
       "      <th></th>\n",
       "      <th></th>\n",
       "      <th></th>\n",
       "      <th></th>\n",
       "      <th></th>\n",
       "      <th></th>\n",
       "    </tr>\n",
       "  </thead>\n",
       "  <tbody>\n",
       "    <tr>\n",
       "      <th>N55528</th>\n",
       "      <td>lifestyle</td>\n",
       "      <td>lifestyleroyals</td>\n",
       "      <td>The Brands Queen Elizabeth, Prince Charles, an...</td>\n",
       "      <td>Shop the notebooks, jackets, and more that the...</td>\n",
       "      <td>https://assets.msn.com/labs/mind/AAGH0ET.html</td>\n",
       "      <td>[{\"Label\": \"Prince Philip, Duke of Edinburgh\",...</td>\n",
       "      <td>[]</td>\n",
       "    </tr>\n",
       "    <tr>\n",
       "      <th>N19639</th>\n",
       "      <td>health</td>\n",
       "      <td>weightloss</td>\n",
       "      <td>50 Worst Habits For Belly Fat</td>\n",
       "      <td>These seemingly harmless habits are holding yo...</td>\n",
       "      <td>https://assets.msn.com/labs/mind/AAB19MK.html</td>\n",
       "      <td>[{\"Label\": \"Adipose tissue\", \"Type\": \"C\", \"Wik...</td>\n",
       "      <td>[{\"Label\": \"Adipose tissue\", \"Type\": \"C\", \"Wik...</td>\n",
       "    </tr>\n",
       "    <tr>\n",
       "      <th>N61837</th>\n",
       "      <td>news</td>\n",
       "      <td>newsworld</td>\n",
       "      <td>The Cost of Trump's Aid Freeze in the Trenches...</td>\n",
       "      <td>Lt. Ivan Molchanets peeked over a parapet of s...</td>\n",
       "      <td>https://assets.msn.com/labs/mind/AAJgNsz.html</td>\n",
       "      <td>[]</td>\n",
       "      <td>[{\"Label\": \"Ukraine\", \"Type\": \"G\", \"WikidataId...</td>\n",
       "    </tr>\n",
       "    <tr>\n",
       "      <th>N53526</th>\n",
       "      <td>health</td>\n",
       "      <td>voices</td>\n",
       "      <td>I Was An NBA Wife. Here's How It Affected My M...</td>\n",
       "      <td>I felt like I was a fraud, and being an NBA wi...</td>\n",
       "      <td>https://assets.msn.com/labs/mind/AACk2N6.html</td>\n",
       "      <td>[]</td>\n",
       "      <td>[{\"Label\": \"National Basketball Association\", ...</td>\n",
       "    </tr>\n",
       "    <tr>\n",
       "      <th>N38324</th>\n",
       "      <td>health</td>\n",
       "      <td>medical</td>\n",
       "      <td>How to Get Rid of Skin Tags, According to a De...</td>\n",
       "      <td>They seem harmless, but there's a very good re...</td>\n",
       "      <td>https://assets.msn.com/labs/mind/AAAKEkt.html</td>\n",
       "      <td>[{\"Label\": \"Skin tag\", \"Type\": \"C\", \"WikidataI...</td>\n",
       "      <td>[{\"Label\": \"Skin tag\", \"Type\": \"C\", \"WikidataI...</td>\n",
       "    </tr>\n",
       "  </tbody>\n",
       "</table>\n",
       "</div>"
      ],
      "text/plain": [
       "                1                2  \\\n",
       "0                                    \n",
       "N55528  lifestyle  lifestyleroyals   \n",
       "N19639     health       weightloss   \n",
       "N61837       news        newsworld   \n",
       "N53526     health           voices   \n",
       "N38324     health          medical   \n",
       "\n",
       "                                                        3  \\\n",
       "0                                                           \n",
       "N55528  The Brands Queen Elizabeth, Prince Charles, an...   \n",
       "N19639                      50 Worst Habits For Belly Fat   \n",
       "N61837  The Cost of Trump's Aid Freeze in the Trenches...   \n",
       "N53526  I Was An NBA Wife. Here's How It Affected My M...   \n",
       "N38324  How to Get Rid of Skin Tags, According to a De...   \n",
       "\n",
       "                                                        4  \\\n",
       "0                                                           \n",
       "N55528  Shop the notebooks, jackets, and more that the...   \n",
       "N19639  These seemingly harmless habits are holding yo...   \n",
       "N61837  Lt. Ivan Molchanets peeked over a parapet of s...   \n",
       "N53526  I felt like I was a fraud, and being an NBA wi...   \n",
       "N38324  They seem harmless, but there's a very good re...   \n",
       "\n",
       "                                                    5  \\\n",
       "0                                                       \n",
       "N55528  https://assets.msn.com/labs/mind/AAGH0ET.html   \n",
       "N19639  https://assets.msn.com/labs/mind/AAB19MK.html   \n",
       "N61837  https://assets.msn.com/labs/mind/AAJgNsz.html   \n",
       "N53526  https://assets.msn.com/labs/mind/AACk2N6.html   \n",
       "N38324  https://assets.msn.com/labs/mind/AAAKEkt.html   \n",
       "\n",
       "                                                        6  \\\n",
       "0                                                           \n",
       "N55528  [{\"Label\": \"Prince Philip, Duke of Edinburgh\",...   \n",
       "N19639  [{\"Label\": \"Adipose tissue\", \"Type\": \"C\", \"Wik...   \n",
       "N61837                                                 []   \n",
       "N53526                                                 []   \n",
       "N38324  [{\"Label\": \"Skin tag\", \"Type\": \"C\", \"WikidataI...   \n",
       "\n",
       "                                                        7  \n",
       "0                                                          \n",
       "N55528                                                 []  \n",
       "N19639  [{\"Label\": \"Adipose tissue\", \"Type\": \"C\", \"Wik...  \n",
       "N61837  [{\"Label\": \"Ukraine\", \"Type\": \"G\", \"WikidataId...  \n",
       "N53526  [{\"Label\": \"National Basketball Association\", ...  \n",
       "N38324  [{\"Label\": \"Skin tag\", \"Type\": \"C\", \"WikidataI...  "
      ]
     },
     "execution_count": 43,
     "metadata": {},
     "output_type": "execute_result"
    }
   ],
   "source": [
    "news.head()"
   ]
  },
  {
   "cell_type": "code",
   "execution_count": 44,
   "metadata": {},
   "outputs": [
    {
     "data": {
      "text/plain": [
       "(51282, 7)"
      ]
     },
     "execution_count": 44,
     "metadata": {},
     "output_type": "execute_result"
    }
   ],
   "source": [
    "news.shape"
   ]
  },
  {
   "cell_type": "code",
   "execution_count": 45,
   "metadata": {},
   "outputs": [
    {
     "data": {
      "text/plain": [
       "1    False\n",
       "2    False\n",
       "3    False\n",
       "4     True\n",
       "5    False\n",
       "6     True\n",
       "7     True\n",
       "dtype: bool"
      ]
     },
     "execution_count": 45,
     "metadata": {},
     "output_type": "execute_result"
    }
   ],
   "source": [
    "news.isna().any()"
   ]
  },
  {
   "cell_type": "code",
   "execution_count": 46,
   "metadata": {},
   "outputs": [
    {
     "data": {
      "text/html": [
       "<div>\n",
       "<style scoped>\n",
       "    .dataframe tbody tr th:only-of-type {\n",
       "        vertical-align: middle;\n",
       "    }\n",
       "\n",
       "    .dataframe tbody tr th {\n",
       "        vertical-align: top;\n",
       "    }\n",
       "\n",
       "    .dataframe thead th {\n",
       "        text-align: right;\n",
       "    }\n",
       "</style>\n",
       "<table border=\"1\" class=\"dataframe\">\n",
       "  <thead>\n",
       "    <tr style=\"text-align: right;\">\n",
       "      <th></th>\n",
       "      <th>1</th>\n",
       "      <th>2</th>\n",
       "      <th>3</th>\n",
       "      <th>4</th>\n",
       "      <th>5</th>\n",
       "      <th>6</th>\n",
       "      <th>7</th>\n",
       "    </tr>\n",
       "    <tr>\n",
       "      <th>0</th>\n",
       "      <th></th>\n",
       "      <th></th>\n",
       "      <th></th>\n",
       "      <th></th>\n",
       "      <th></th>\n",
       "      <th></th>\n",
       "      <th></th>\n",
       "    </tr>\n",
       "  </thead>\n",
       "  <tbody>\n",
       "    <tr>\n",
       "      <th>N22028</th>\n",
       "      <td>lifestyle</td>\n",
       "      <td>lifestylebuzz</td>\n",
       "      <td>Mom with schizophrenia, 6-year-old daughter mi...</td>\n",
       "      <td>NaN</td>\n",
       "      <td>https://assets.msn.com/labs/mind/AAJfTsZ.html</td>\n",
       "      <td>[{\"Label\": \"Queens\", \"Type\": \"G\", \"WikidataId\"...</td>\n",
       "      <td>[]</td>\n",
       "    </tr>\n",
       "    <tr>\n",
       "      <th>N41835</th>\n",
       "      <td>news</td>\n",
       "      <td>newsworld</td>\n",
       "      <td>Today in History: November 2</td>\n",
       "      <td>NaN</td>\n",
       "      <td>https://assets.msn.com/labs/mind/AAJwpBS.html</td>\n",
       "      <td>[]</td>\n",
       "      <td>[]</td>\n",
       "    </tr>\n",
       "    <tr>\n",
       "      <th>N25174</th>\n",
       "      <td>weather</td>\n",
       "      <td>weathertopstories</td>\n",
       "      <td>Winter Storm Warning For Metro Denver, Boulder...</td>\n",
       "      <td>NaN</td>\n",
       "      <td>https://assets.msn.com/labs/mind/AAJwpSQ.html</td>\n",
       "      <td>[{\"Label\": \"Boulder, Colorado\", \"Type\": \"G\", \"...</td>\n",
       "      <td>[]</td>\n",
       "    </tr>\n",
       "    <tr>\n",
       "      <th>N45191</th>\n",
       "      <td>lifestyle</td>\n",
       "      <td>shop-all</td>\n",
       "      <td>Amazon Says These Are Its Funniest Customer Re...</td>\n",
       "      <td>NaN</td>\n",
       "      <td>https://assets.msn.com/labs/mind/AAEyYIZ.html</td>\n",
       "      <td>[{\"Label\": \"Amazon (company)\", \"Type\": \"O\", \"W...</td>\n",
       "      <td>[]</td>\n",
       "    </tr>\n",
       "    <tr>\n",
       "      <th>N31161</th>\n",
       "      <td>sports</td>\n",
       "      <td>baseball_mlb</td>\n",
       "      <td>Astros have a lot of baseball left despite two...</td>\n",
       "      <td>NaN</td>\n",
       "      <td>https://assets.msn.com/labs/mind/AAJgPPi.html</td>\n",
       "      <td>[{\"Label\": \"Houston Astros\", \"Type\": \"O\", \"Wik...</td>\n",
       "      <td>[]</td>\n",
       "    </tr>\n",
       "    <tr>\n",
       "      <th>...</th>\n",
       "      <td>...</td>\n",
       "      <td>...</td>\n",
       "      <td>...</td>\n",
       "      <td>...</td>\n",
       "      <td>...</td>\n",
       "      <td>...</td>\n",
       "      <td>...</td>\n",
       "    </tr>\n",
       "    <tr>\n",
       "      <th>N56193</th>\n",
       "      <td>sports</td>\n",
       "      <td>football_nfl</td>\n",
       "      <td>Cowboys have questionable red zone calls in lo...</td>\n",
       "      <td>NaN</td>\n",
       "      <td>https://assets.msn.com/labs/mind/BBWz2Xp.html</td>\n",
       "      <td>[{\"Label\": \"Dallas Cowboys\", \"Type\": \"O\", \"Wik...</td>\n",
       "      <td>[]</td>\n",
       "    </tr>\n",
       "    <tr>\n",
       "      <th>N10529</th>\n",
       "      <td>sports</td>\n",
       "      <td>football_nfl</td>\n",
       "      <td>Week 10 Game Balls: Few Bright Spots in Colts ...</td>\n",
       "      <td>NaN</td>\n",
       "      <td>https://assets.msn.com/labs/mind/BBWz39w.html</td>\n",
       "      <td>[{\"Label\": \"Bright spots on Ceres\", \"Type\": \"U...</td>\n",
       "      <td>[]</td>\n",
       "    </tr>\n",
       "    <tr>\n",
       "      <th>N55199</th>\n",
       "      <td>news</td>\n",
       "      <td>newsus</td>\n",
       "      <td>Winter homeless shelter remains unopened after...</td>\n",
       "      <td>NaN</td>\n",
       "      <td>https://assets.msn.com/labs/mind/BBWzAPK.html</td>\n",
       "      <td>[]</td>\n",
       "      <td>[]</td>\n",
       "    </tr>\n",
       "    <tr>\n",
       "      <th>N47585</th>\n",
       "      <td>lifestyle</td>\n",
       "      <td>lifestylefamily</td>\n",
       "      <td>Family says 13-year-old Broadway star died fro...</td>\n",
       "      <td>NaN</td>\n",
       "      <td>https://assets.msn.com/labs/mind/BBWzQYV.html</td>\n",
       "      <td>[{\"Label\": \"Broadway theatre\", \"Type\": \"F\", \"W...</td>\n",
       "      <td>[]</td>\n",
       "    </tr>\n",
       "    <tr>\n",
       "      <th>N44276</th>\n",
       "      <td>autos</td>\n",
       "      <td>autossports</td>\n",
       "      <td>Best Sports Car Deals for October</td>\n",
       "      <td>NaN</td>\n",
       "      <td>https://assets.msn.com/labs/mind/BBy5rVe.html</td>\n",
       "      <td>[{\"Label\": \"Peugeot RCZ\", \"Type\": \"V\", \"Wikida...</td>\n",
       "      <td>[]</td>\n",
       "    </tr>\n",
       "  </tbody>\n",
       "</table>\n",
       "<p>2670 rows × 7 columns</p>\n",
       "</div>"
      ],
      "text/plain": [
       "                1                  2  \\\n",
       "0                                      \n",
       "N22028  lifestyle      lifestylebuzz   \n",
       "N41835       news          newsworld   \n",
       "N25174    weather  weathertopstories   \n",
       "N45191  lifestyle           shop-all   \n",
       "N31161     sports       baseball_mlb   \n",
       "...           ...                ...   \n",
       "N56193     sports       football_nfl   \n",
       "N10529     sports       football_nfl   \n",
       "N55199       news             newsus   \n",
       "N47585  lifestyle    lifestylefamily   \n",
       "N44276      autos        autossports   \n",
       "\n",
       "                                                        3    4  \\\n",
       "0                                                                \n",
       "N22028  Mom with schizophrenia, 6-year-old daughter mi...  NaN   \n",
       "N41835                       Today in History: November 2  NaN   \n",
       "N25174  Winter Storm Warning For Metro Denver, Boulder...  NaN   \n",
       "N45191  Amazon Says These Are Its Funniest Customer Re...  NaN   \n",
       "N31161  Astros have a lot of baseball left despite two...  NaN   \n",
       "...                                                   ...  ...   \n",
       "N56193  Cowboys have questionable red zone calls in lo...  NaN   \n",
       "N10529  Week 10 Game Balls: Few Bright Spots in Colts ...  NaN   \n",
       "N55199  Winter homeless shelter remains unopened after...  NaN   \n",
       "N47585  Family says 13-year-old Broadway star died fro...  NaN   \n",
       "N44276                  Best Sports Car Deals for October  NaN   \n",
       "\n",
       "                                                    5  \\\n",
       "0                                                       \n",
       "N22028  https://assets.msn.com/labs/mind/AAJfTsZ.html   \n",
       "N41835  https://assets.msn.com/labs/mind/AAJwpBS.html   \n",
       "N25174  https://assets.msn.com/labs/mind/AAJwpSQ.html   \n",
       "N45191  https://assets.msn.com/labs/mind/AAEyYIZ.html   \n",
       "N31161  https://assets.msn.com/labs/mind/AAJgPPi.html   \n",
       "...                                               ...   \n",
       "N56193  https://assets.msn.com/labs/mind/BBWz2Xp.html   \n",
       "N10529  https://assets.msn.com/labs/mind/BBWz39w.html   \n",
       "N55199  https://assets.msn.com/labs/mind/BBWzAPK.html   \n",
       "N47585  https://assets.msn.com/labs/mind/BBWzQYV.html   \n",
       "N44276  https://assets.msn.com/labs/mind/BBy5rVe.html   \n",
       "\n",
       "                                                        6   7  \n",
       "0                                                              \n",
       "N22028  [{\"Label\": \"Queens\", \"Type\": \"G\", \"WikidataId\"...  []  \n",
       "N41835                                                 []  []  \n",
       "N25174  [{\"Label\": \"Boulder, Colorado\", \"Type\": \"G\", \"...  []  \n",
       "N45191  [{\"Label\": \"Amazon (company)\", \"Type\": \"O\", \"W...  []  \n",
       "N31161  [{\"Label\": \"Houston Astros\", \"Type\": \"O\", \"Wik...  []  \n",
       "...                                                   ...  ..  \n",
       "N56193  [{\"Label\": \"Dallas Cowboys\", \"Type\": \"O\", \"Wik...  []  \n",
       "N10529  [{\"Label\": \"Bright spots on Ceres\", \"Type\": \"U...  []  \n",
       "N55199                                                 []  []  \n",
       "N47585  [{\"Label\": \"Broadway theatre\", \"Type\": \"F\", \"W...  []  \n",
       "N44276  [{\"Label\": \"Peugeot RCZ\", \"Type\": \"V\", \"Wikida...  []  \n",
       "\n",
       "[2670 rows x 7 columns]"
      ]
     },
     "execution_count": 46,
     "metadata": {},
     "output_type": "execute_result"
    }
   ],
   "source": [
    "news[news.isna().any(axis=1)]"
   ]
  },
  {
   "cell_type": "code",
   "execution_count": 117,
   "metadata": {},
   "outputs": [],
   "source": [
    "news.fillna('[]',inplace=True)"
   ]
  },
  {
   "cell_type": "code",
   "execution_count": 48,
   "metadata": {},
   "outputs": [
    {
     "data": {
      "text/plain": [
       "2                 3                                                                                         \n",
       "newsworld         Photos of the Day                                                                             15\n",
       "lifestylebuzz     Look of the Day                                                                               14\n",
       "baseball_mlb      Video appears to show Astros stealing signs against Danny Farquhar                             6\n",
       "                  Yu Darvish sends hilarious tweet about Astros cheating scandal                                 5\n",
       "music-gallery     New and upcoming releases                                                                      5\n",
       "                                                                                                                ..\n",
       "newstrends        Three friends open sports bar on Ingersoll Avenue as a salute to Des Moines community          1\n",
       "                  Three Sickened After Eating Tuna At Seattle Restaurant                                         1\n",
       "                  Three Bars to Try This Weekend in Los Angeles                                                  1\n",
       "                  This small-batch liqueur is made for Dia de los Muertos. Here's where to try it in Phoenix     1\n",
       "ads-latingrammys  2019 Latin GRAMMY Awards: The Complete Winners List                                            1\n",
       "Length: 50616, dtype: int64"
      ]
     },
     "execution_count": 48,
     "metadata": {},
     "output_type": "execute_result"
    }
   ],
   "source": [
    "news.iloc[:,[1,2]].value_counts()"
   ]
  },
  {
   "cell_type": "code",
   "execution_count": 49,
   "metadata": {},
   "outputs": [
    {
     "data": {
      "text/plain": [
       "newsus                    6564\n",
       "football_nfl              5420\n",
       "newspolitics              2826\n",
       "newscrime                 2254\n",
       "weathertopstories         2047\n",
       "                          ... \n",
       "newstvmedia                  1\n",
       "cookingschool                1\n",
       "finance-auto-insurance       1\n",
       "foodtips                     1\n",
       "tv-golden-globes-video       1\n",
       "Name: 2, Length: 264, dtype: int64"
      ]
     },
     "execution_count": 49,
     "metadata": {},
     "output_type": "execute_result"
    }
   ],
   "source": [
    "news.iloc[:,1].value_counts()"
   ]
  },
  {
   "cell_type": "code",
   "execution_count": null,
   "metadata": {},
   "outputs": [],
   "source": []
  },
  {
   "cell_type": "markdown",
   "metadata": {},
   "source": [
    "#### subcatigory is too trivial"
   ]
  },
  {
   "cell_type": "code",
   "execution_count": 50,
   "metadata": {},
   "outputs": [
    {
     "data": {
      "text/html": [
       "<div>\n",
       "<style scoped>\n",
       "    .dataframe tbody tr th:only-of-type {\n",
       "        vertical-align: middle;\n",
       "    }\n",
       "\n",
       "    .dataframe tbody tr th {\n",
       "        vertical-align: top;\n",
       "    }\n",
       "\n",
       "    .dataframe thead th {\n",
       "        text-align: right;\n",
       "    }\n",
       "</style>\n",
       "<table border=\"1\" class=\"dataframe\">\n",
       "  <thead>\n",
       "    <tr style=\"text-align: right;\">\n",
       "      <th></th>\n",
       "      <th>2</th>\n",
       "    </tr>\n",
       "  </thead>\n",
       "  <tbody>\n",
       "    <tr>\n",
       "      <th>count</th>\n",
       "      <td>264.000000</td>\n",
       "    </tr>\n",
       "    <tr>\n",
       "      <th>mean</th>\n",
       "      <td>194.250000</td>\n",
       "    </tr>\n",
       "    <tr>\n",
       "      <th>std</th>\n",
       "      <td>631.211339</td>\n",
       "    </tr>\n",
       "    <tr>\n",
       "      <th>min</th>\n",
       "      <td>1.000000</td>\n",
       "    </tr>\n",
       "    <tr>\n",
       "      <th>25%</th>\n",
       "      <td>2.000000</td>\n",
       "    </tr>\n",
       "    <tr>\n",
       "      <th>50%</th>\n",
       "      <td>15.500000</td>\n",
       "    </tr>\n",
       "    <tr>\n",
       "      <th>75%</th>\n",
       "      <td>110.250000</td>\n",
       "    </tr>\n",
       "    <tr>\n",
       "      <th>max</th>\n",
       "      <td>6564.000000</td>\n",
       "    </tr>\n",
       "  </tbody>\n",
       "</table>\n",
       "</div>"
      ],
      "text/plain": [
       "                 2\n",
       "count   264.000000\n",
       "mean    194.250000\n",
       "std     631.211339\n",
       "min       1.000000\n",
       "25%       2.000000\n",
       "50%      15.500000\n",
       "75%     110.250000\n",
       "max    6564.000000"
      ]
     },
     "execution_count": 50,
     "metadata": {},
     "output_type": "execute_result"
    }
   ],
   "source": [
    "pd.DataFrame(news.iloc[:,1].value_counts()).describe()"
   ]
  },
  {
   "cell_type": "code",
   "execution_count": 51,
   "metadata": {},
   "outputs": [
    {
     "data": {
      "text/html": [
       "<div>\n",
       "<style scoped>\n",
       "    .dataframe tbody tr th:only-of-type {\n",
       "        vertical-align: middle;\n",
       "    }\n",
       "\n",
       "    .dataframe tbody tr th {\n",
       "        vertical-align: top;\n",
       "    }\n",
       "\n",
       "    .dataframe thead th {\n",
       "        text-align: right;\n",
       "    }\n",
       "</style>\n",
       "<table border=\"1\" class=\"dataframe\">\n",
       "  <thead>\n",
       "    <tr style=\"text-align: right;\">\n",
       "      <th></th>\n",
       "      <th>3</th>\n",
       "    </tr>\n",
       "  </thead>\n",
       "  <tbody>\n",
       "    <tr>\n",
       "      <th>count</th>\n",
       "      <td>50434.000000</td>\n",
       "    </tr>\n",
       "    <tr>\n",
       "      <th>mean</th>\n",
       "      <td>1.016814</td>\n",
       "    </tr>\n",
       "    <tr>\n",
       "      <th>std</th>\n",
       "      <td>0.182500</td>\n",
       "    </tr>\n",
       "    <tr>\n",
       "      <th>min</th>\n",
       "      <td>1.000000</td>\n",
       "    </tr>\n",
       "    <tr>\n",
       "      <th>25%</th>\n",
       "      <td>1.000000</td>\n",
       "    </tr>\n",
       "    <tr>\n",
       "      <th>50%</th>\n",
       "      <td>1.000000</td>\n",
       "    </tr>\n",
       "    <tr>\n",
       "      <th>75%</th>\n",
       "      <td>1.000000</td>\n",
       "    </tr>\n",
       "    <tr>\n",
       "      <th>max</th>\n",
       "      <td>15.000000</td>\n",
       "    </tr>\n",
       "  </tbody>\n",
       "</table>\n",
       "</div>"
      ],
      "text/plain": [
       "                  3\n",
       "count  50434.000000\n",
       "mean       1.016814\n",
       "std        0.182500\n",
       "min        1.000000\n",
       "25%        1.000000\n",
       "50%        1.000000\n",
       "75%        1.000000\n",
       "max       15.000000"
      ]
     },
     "execution_count": 51,
     "metadata": {},
     "output_type": "execute_result"
    }
   ],
   "source": [
    "pd.DataFrame(news.iloc[:,2].value_counts()).describe()"
   ]
  },
  {
   "cell_type": "code",
   "execution_count": null,
   "metadata": {},
   "outputs": [],
   "source": []
  },
  {
   "cell_type": "markdown",
   "metadata": {},
   "source": [
    "#### raw words data/embeddings"
   ]
  },
  {
   "cell_type": "code",
   "execution_count": 52,
   "metadata": {},
   "outputs": [
    {
     "data": {
      "text/plain": [
       "\"Shop the notebooks, jackets, and more that the royals can't live without.\""
      ]
     },
     "execution_count": 52,
     "metadata": {},
     "output_type": "execute_result"
    }
   ],
   "source": [
    "news.iloc[0,3]"
   ]
  },
  {
   "cell_type": "code",
   "execution_count": 53,
   "metadata": {},
   "outputs": [
    {
     "data": {
      "text/plain": [
       "11"
      ]
     },
     "execution_count": 53,
     "metadata": {},
     "output_type": "execute_result"
    }
   ],
   "source": [
    "len(news.iloc[0,2].split(' '))"
   ]
  },
  {
   "cell_type": "code",
   "execution_count": 54,
   "metadata": {},
   "outputs": [
    {
     "data": {
      "text/plain": [
       "'These seemingly harmless habits are holding you back and keeping you from shedding that unwanted belly fat for good.'"
      ]
     },
     "execution_count": 54,
     "metadata": {},
     "output_type": "execute_result"
    }
   ],
   "source": [
    "news.iloc[1,3]"
   ]
  },
  {
   "cell_type": "code",
   "execution_count": 55,
   "metadata": {},
   "outputs": [
    {
     "data": {
      "text/plain": [
       "'Lt. Ivan Molchanets peeked over a parapet of sand bags at the front line of the war in Ukraine. Next to him was an empty helmet propped up to trick snipers, already perforated with multiple holes.'"
      ]
     },
     "execution_count": 55,
     "metadata": {},
     "output_type": "execute_result"
    }
   ],
   "source": [
    "news.iloc[2,3]"
   ]
  },
  {
   "cell_type": "code",
   "execution_count": 56,
   "metadata": {},
   "outputs": [
    {
     "data": {
      "text/plain": [
       "\"The Cost of Trump's Aid Freeze in the Trenches of Ukraine's War\""
      ]
     },
     "execution_count": 56,
     "metadata": {},
     "output_type": "execute_result"
    }
   ],
   "source": [
    "news.iloc[2,2]"
   ]
  },
  {
   "cell_type": "code",
   "execution_count": 57,
   "metadata": {},
   "outputs": [
    {
     "data": {
      "text/plain": [
       "6                                                   []\n",
       "7    [{\"Label\": \"Ukraine\", \"Type\": \"G\", \"WikidataId...\n",
       "Name: N61837, dtype: object"
      ]
     },
     "execution_count": 57,
     "metadata": {},
     "output_type": "execute_result"
    }
   ],
   "source": [
    "news.iloc[2,5:]"
   ]
  },
  {
   "cell_type": "code",
   "execution_count": 58,
   "metadata": {},
   "outputs": [],
   "source": [
    "news['title_len'] = news.iloc[:,2].apply(lambda x:len(x.split(' ')))"
   ]
  },
  {
   "cell_type": "code",
   "execution_count": 59,
   "metadata": {},
   "outputs": [],
   "source": [
    "news['intro_len'] = news.iloc[:,3].apply(lambda x:len(x.split(' ')))"
   ]
  },
  {
   "cell_type": "code",
   "execution_count": 60,
   "metadata": {},
   "outputs": [
    {
     "data": {
      "text/html": [
       "<div>\n",
       "<style scoped>\n",
       "    .dataframe tbody tr th:only-of-type {\n",
       "        vertical-align: middle;\n",
       "    }\n",
       "\n",
       "    .dataframe tbody tr th {\n",
       "        vertical-align: top;\n",
       "    }\n",
       "\n",
       "    .dataframe thead th {\n",
       "        text-align: right;\n",
       "    }\n",
       "</style>\n",
       "<table border=\"1\" class=\"dataframe\">\n",
       "  <thead>\n",
       "    <tr style=\"text-align: right;\">\n",
       "      <th></th>\n",
       "      <th>title_len</th>\n",
       "      <th>intro_len</th>\n",
       "    </tr>\n",
       "  </thead>\n",
       "  <tbody>\n",
       "    <tr>\n",
       "      <th>count</th>\n",
       "      <td>51282.000000</td>\n",
       "      <td>51282.000000</td>\n",
       "    </tr>\n",
       "    <tr>\n",
       "      <th>mean</th>\n",
       "      <td>10.769919</td>\n",
       "      <td>34.488417</td>\n",
       "    </tr>\n",
       "    <tr>\n",
       "      <th>std</th>\n",
       "      <td>3.286625</td>\n",
       "      <td>26.636350</td>\n",
       "    </tr>\n",
       "    <tr>\n",
       "      <th>min</th>\n",
       "      <td>1.000000</td>\n",
       "      <td>1.000000</td>\n",
       "    </tr>\n",
       "    <tr>\n",
       "      <th>25%</th>\n",
       "      <td>9.000000</td>\n",
       "      <td>15.000000</td>\n",
       "    </tr>\n",
       "    <tr>\n",
       "      <th>50%</th>\n",
       "      <td>10.000000</td>\n",
       "      <td>24.000000</td>\n",
       "    </tr>\n",
       "    <tr>\n",
       "      <th>75%</th>\n",
       "      <td>13.000000</td>\n",
       "      <td>63.000000</td>\n",
       "    </tr>\n",
       "    <tr>\n",
       "      <th>max</th>\n",
       "      <td>56.000000</td>\n",
       "      <td>478.000000</td>\n",
       "    </tr>\n",
       "  </tbody>\n",
       "</table>\n",
       "</div>"
      ],
      "text/plain": [
       "          title_len     intro_len\n",
       "count  51282.000000  51282.000000\n",
       "mean      10.769919     34.488417\n",
       "std        3.286625     26.636350\n",
       "min        1.000000      1.000000\n",
       "25%        9.000000     15.000000\n",
       "50%       10.000000     24.000000\n",
       "75%       13.000000     63.000000\n",
       "max       56.000000    478.000000"
      ]
     },
     "execution_count": 60,
     "metadata": {},
     "output_type": "execute_result"
    }
   ],
   "source": [
    "news.describe()"
   ]
  },
  {
   "cell_type": "markdown",
   "metadata": {},
   "source": [
    "### giviing title len is 13 for 75 percentile, maybe it's okay to just limit it to 10 or 13"
   ]
  },
  {
   "cell_type": "markdown",
   "metadata": {},
   "source": [
    "##### cleaning and preprocessing"
   ]
  },
  {
   "cell_type": "code",
   "execution_count": 29,
   "metadata": {},
   "outputs": [
    {
     "data": {
      "text/plain": [
       "'!\"#$%&\\'()*+,-./:;<=>?@[\\\\]^_`{|}~'"
      ]
     },
     "execution_count": 29,
     "metadata": {},
     "output_type": "execute_result"
    }
   ],
   "source": [
    "import string\n",
    "string.punctuation\n"
   ]
  },
  {
   "cell_type": "code",
   "execution_count": 61,
   "metadata": {},
   "outputs": [
    {
     "data": {
      "text/plain": [
       "['The',\n",
       " 'Cost',\n",
       " 'of',\n",
       " \"Trump's\",\n",
       " 'Aid',\n",
       " 'Freeze',\n",
       " 'in',\n",
       " 'the',\n",
       " 'Trenches',\n",
       " 'of',\n",
       " \"Ukraine's\",\n",
       " 'War']"
      ]
     },
     "execution_count": 61,
     "metadata": {},
     "output_type": "execute_result"
    }
   ],
   "source": [
    "news.iloc[2,2].split(' ')"
   ]
  },
  {
   "cell_type": "code",
   "execution_count": null,
   "metadata": {},
   "outputs": [],
   "source": []
  },
  {
   "cell_type": "code",
   "execution_count": null,
   "metadata": {},
   "outputs": [],
   "source": []
  },
  {
   "cell_type": "code",
   "execution_count": null,
   "metadata": {},
   "outputs": [],
   "source": []
  },
  {
   "cell_type": "code",
   "execution_count": null,
   "metadata": {},
   "outputs": [],
   "source": []
  },
  {
   "cell_type": "markdown",
   "metadata": {},
   "source": [
    "#### contextual data"
   ]
  },
  {
   "cell_type": "code",
   "execution_count": 62,
   "metadata": {},
   "outputs": [
    {
     "data": {
      "text/plain": [
       "[{'Label': 'Prince Philip, Duke of Edinburgh',\n",
       "  'Type': 'P',\n",
       "  'WikidataId': 'Q80976',\n",
       "  'Confidence': 1.0,\n",
       "  'OccurrenceOffsets': [48],\n",
       "  'SurfaceForms': ['Prince Philip']},\n",
       " {'Label': 'Charles, Prince of Wales',\n",
       "  'Type': 'P',\n",
       "  'WikidataId': 'Q43274',\n",
       "  'Confidence': 1.0,\n",
       "  'OccurrenceOffsets': [28],\n",
       "  'SurfaceForms': ['Prince Charles']},\n",
       " {'Label': 'Elizabeth II',\n",
       "  'Type': 'P',\n",
       "  'WikidataId': 'Q9682',\n",
       "  'Confidence': 0.97,\n",
       "  'OccurrenceOffsets': [11],\n",
       "  'SurfaceForms': ['Queen Elizabeth']}]"
      ]
     },
     "execution_count": 62,
     "metadata": {},
     "output_type": "execute_result"
    }
   ],
   "source": [
    "json.loads(news.iloc[0,5])"
   ]
  },
  {
   "cell_type": "code",
   "execution_count": 63,
   "metadata": {},
   "outputs": [
    {
     "data": {
      "text/plain": [
       "[{'Label': 'Adipose tissue',\n",
       "  'Type': 'C',\n",
       "  'WikidataId': 'Q193583',\n",
       "  'Confidence': 1.0,\n",
       "  'OccurrenceOffsets': [97],\n",
       "  'SurfaceForms': ['belly fat']}]"
      ]
     },
     "execution_count": 63,
     "metadata": {},
     "output_type": "execute_result"
    }
   ],
   "source": [
    "json.loads(news.iloc[1,6])"
   ]
  },
  {
   "cell_type": "code",
   "execution_count": 64,
   "metadata": {},
   "outputs": [
    {
     "data": {
      "text/plain": [
       "[{'Label': 'Adipose tissue',\n",
       "  'Type': 'C',\n",
       "  'WikidataId': 'Q193583',\n",
       "  'Confidence': 1.0,\n",
       "  'OccurrenceOffsets': [97],\n",
       "  'SurfaceForms': ['belly fat']}]"
      ]
     },
     "execution_count": 64,
     "metadata": {},
     "output_type": "execute_result"
    }
   ],
   "source": [
    "json.loads(news.iloc[1,6])"
   ]
  },
  {
   "cell_type": "code",
   "execution_count": null,
   "metadata": {},
   "outputs": [],
   "source": []
  },
  {
   "cell_type": "code",
   "execution_count": 65,
   "metadata": {},
   "outputs": [
    {
     "data": {
      "text/html": [
       "<div>\n",
       "<style scoped>\n",
       "    .dataframe tbody tr th:only-of-type {\n",
       "        vertical-align: middle;\n",
       "    }\n",
       "\n",
       "    .dataframe tbody tr th {\n",
       "        vertical-align: top;\n",
       "    }\n",
       "\n",
       "    .dataframe thead th {\n",
       "        text-align: right;\n",
       "    }\n",
       "</style>\n",
       "<table border=\"1\" class=\"dataframe\">\n",
       "  <thead>\n",
       "    <tr style=\"text-align: right;\">\n",
       "      <th></th>\n",
       "      <th>Label</th>\n",
       "      <th>Type</th>\n",
       "      <th>WikidataId</th>\n",
       "      <th>Confidence</th>\n",
       "      <th>OccurrenceOffsets</th>\n",
       "      <th>SurfaceForms</th>\n",
       "    </tr>\n",
       "  </thead>\n",
       "  <tbody>\n",
       "    <tr>\n",
       "      <th>0</th>\n",
       "      <td>Adipose tissue</td>\n",
       "      <td>C</td>\n",
       "      <td>Q193583</td>\n",
       "      <td>1.0</td>\n",
       "      <td>[97]</td>\n",
       "      <td>[belly fat]</td>\n",
       "    </tr>\n",
       "  </tbody>\n",
       "</table>\n",
       "</div>"
      ],
      "text/plain": [
       "            Label Type WikidataId  Confidence OccurrenceOffsets SurfaceForms\n",
       "0  Adipose tissue    C    Q193583         1.0              [97]  [belly fat]"
      ]
     },
     "execution_count": 65,
     "metadata": {},
     "output_type": "execute_result"
    }
   ],
   "source": [
    "pd.DataFrame(json.loads(news.iloc[1,6]))#.apply(lambda x:len(x))"
   ]
  },
  {
   "cell_type": "code",
   "execution_count": null,
   "metadata": {},
   "outputs": [],
   "source": []
  },
  {
   "cell_type": "code",
   "execution_count": null,
   "metadata": {},
   "outputs": [],
   "source": []
  },
  {
   "cell_type": "markdown",
   "metadata": {},
   "source": [
    "##### clean column abstract column"
   ]
  },
  {
   "cell_type": "code",
   "execution_count": 66,
   "metadata": {},
   "outputs": [],
   "source": [
    "news.iloc[:,5:].fillna('[]',inplace=True)\n"
   ]
  },
  {
   "cell_type": "markdown",
   "metadata": {},
   "source": [
    "##### title and abstract has about 13000 missing value each"
   ]
  },
  {
   "cell_type": "code",
   "execution_count": 69,
   "metadata": {},
   "outputs": [
    {
     "data": {
      "text/html": [
       "<div>\n",
       "<style scoped>\n",
       "    .dataframe tbody tr th:only-of-type {\n",
       "        vertical-align: middle;\n",
       "    }\n",
       "\n",
       "    .dataframe tbody tr th {\n",
       "        vertical-align: top;\n",
       "    }\n",
       "\n",
       "    .dataframe thead th {\n",
       "        text-align: right;\n",
       "    }\n",
       "</style>\n",
       "<table border=\"1\" class=\"dataframe\">\n",
       "  <thead>\n",
       "    <tr style=\"text-align: right;\">\n",
       "      <th></th>\n",
       "      <th>1</th>\n",
       "      <th>2</th>\n",
       "      <th>3</th>\n",
       "      <th>4</th>\n",
       "      <th>5</th>\n",
       "      <th>6</th>\n",
       "      <th>7</th>\n",
       "      <th>title_len</th>\n",
       "      <th>intro_len</th>\n",
       "    </tr>\n",
       "    <tr>\n",
       "      <th>0</th>\n",
       "      <th></th>\n",
       "      <th></th>\n",
       "      <th></th>\n",
       "      <th></th>\n",
       "      <th></th>\n",
       "      <th></th>\n",
       "      <th></th>\n",
       "      <th></th>\n",
       "      <th></th>\n",
       "    </tr>\n",
       "  </thead>\n",
       "  <tbody>\n",
       "    <tr>\n",
       "      <th>N55528</th>\n",
       "      <td>lifestyle</td>\n",
       "      <td>lifestyleroyals</td>\n",
       "      <td>The Brands Queen Elizabeth, Prince Charles, an...</td>\n",
       "      <td>Shop the notebooks, jackets, and more that the...</td>\n",
       "      <td>https://assets.msn.com/labs/mind/AAGH0ET.html</td>\n",
       "      <td>[{\"Label\": \"Prince Philip, Duke of Edinburgh\",...</td>\n",
       "      <td>[]</td>\n",
       "      <td>11</td>\n",
       "      <td>12</td>\n",
       "    </tr>\n",
       "    <tr>\n",
       "      <th>N19639</th>\n",
       "      <td>health</td>\n",
       "      <td>weightloss</td>\n",
       "      <td>50 Worst Habits For Belly Fat</td>\n",
       "      <td>These seemingly harmless habits are holding yo...</td>\n",
       "      <td>https://assets.msn.com/labs/mind/AAB19MK.html</td>\n",
       "      <td>[{\"Label\": \"Adipose tissue\", \"Type\": \"C\", \"Wik...</td>\n",
       "      <td>[{\"Label\": \"Adipose tissue\", \"Type\": \"C\", \"Wik...</td>\n",
       "      <td>6</td>\n",
       "      <td>19</td>\n",
       "    </tr>\n",
       "    <tr>\n",
       "      <th>N61837</th>\n",
       "      <td>news</td>\n",
       "      <td>newsworld</td>\n",
       "      <td>The Cost of Trump's Aid Freeze in the Trenches...</td>\n",
       "      <td>Lt. Ivan Molchanets peeked over a parapet of s...</td>\n",
       "      <td>https://assets.msn.com/labs/mind/AAJgNsz.html</td>\n",
       "      <td>[]</td>\n",
       "      <td>[{\"Label\": \"Ukraine\", \"Type\": \"G\", \"WikidataId...</td>\n",
       "      <td>12</td>\n",
       "      <td>36</td>\n",
       "    </tr>\n",
       "    <tr>\n",
       "      <th>N53526</th>\n",
       "      <td>health</td>\n",
       "      <td>voices</td>\n",
       "      <td>I Was An NBA Wife. Here's How It Affected My M...</td>\n",
       "      <td>I felt like I was a fraud, and being an NBA wi...</td>\n",
       "      <td>https://assets.msn.com/labs/mind/AACk2N6.html</td>\n",
       "      <td>[]</td>\n",
       "      <td>[{\"Label\": \"National Basketball Association\", ...</td>\n",
       "      <td>12</td>\n",
       "      <td>21</td>\n",
       "    </tr>\n",
       "    <tr>\n",
       "      <th>N38324</th>\n",
       "      <td>health</td>\n",
       "      <td>medical</td>\n",
       "      <td>How to Get Rid of Skin Tags, According to a De...</td>\n",
       "      <td>They seem harmless, but there's a very good re...</td>\n",
       "      <td>https://assets.msn.com/labs/mind/AAAKEkt.html</td>\n",
       "      <td>[{\"Label\": \"Skin tag\", \"Type\": \"C\", \"WikidataI...</td>\n",
       "      <td>[{\"Label\": \"Skin tag\", \"Type\": \"C\", \"WikidataI...</td>\n",
       "      <td>11</td>\n",
       "      <td>31</td>\n",
       "    </tr>\n",
       "  </tbody>\n",
       "</table>\n",
       "</div>"
      ],
      "text/plain": [
       "                1                2  \\\n",
       "0                                    \n",
       "N55528  lifestyle  lifestyleroyals   \n",
       "N19639     health       weightloss   \n",
       "N61837       news        newsworld   \n",
       "N53526     health           voices   \n",
       "N38324     health          medical   \n",
       "\n",
       "                                                        3  \\\n",
       "0                                                           \n",
       "N55528  The Brands Queen Elizabeth, Prince Charles, an...   \n",
       "N19639                      50 Worst Habits For Belly Fat   \n",
       "N61837  The Cost of Trump's Aid Freeze in the Trenches...   \n",
       "N53526  I Was An NBA Wife. Here's How It Affected My M...   \n",
       "N38324  How to Get Rid of Skin Tags, According to a De...   \n",
       "\n",
       "                                                        4  \\\n",
       "0                                                           \n",
       "N55528  Shop the notebooks, jackets, and more that the...   \n",
       "N19639  These seemingly harmless habits are holding yo...   \n",
       "N61837  Lt. Ivan Molchanets peeked over a parapet of s...   \n",
       "N53526  I felt like I was a fraud, and being an NBA wi...   \n",
       "N38324  They seem harmless, but there's a very good re...   \n",
       "\n",
       "                                                    5  \\\n",
       "0                                                       \n",
       "N55528  https://assets.msn.com/labs/mind/AAGH0ET.html   \n",
       "N19639  https://assets.msn.com/labs/mind/AAB19MK.html   \n",
       "N61837  https://assets.msn.com/labs/mind/AAJgNsz.html   \n",
       "N53526  https://assets.msn.com/labs/mind/AACk2N6.html   \n",
       "N38324  https://assets.msn.com/labs/mind/AAAKEkt.html   \n",
       "\n",
       "                                                        6  \\\n",
       "0                                                           \n",
       "N55528  [{\"Label\": \"Prince Philip, Duke of Edinburgh\",...   \n",
       "N19639  [{\"Label\": \"Adipose tissue\", \"Type\": \"C\", \"Wik...   \n",
       "N61837                                                 []   \n",
       "N53526                                                 []   \n",
       "N38324  [{\"Label\": \"Skin tag\", \"Type\": \"C\", \"WikidataI...   \n",
       "\n",
       "                                                        7  title_len  \\\n",
       "0                                                                      \n",
       "N55528                                                 []         11   \n",
       "N19639  [{\"Label\": \"Adipose tissue\", \"Type\": \"C\", \"Wik...          6   \n",
       "N61837  [{\"Label\": \"Ukraine\", \"Type\": \"G\", \"WikidataId...         12   \n",
       "N53526  [{\"Label\": \"National Basketball Association\", ...         12   \n",
       "N38324  [{\"Label\": \"Skin tag\", \"Type\": \"C\", \"WikidataI...         11   \n",
       "\n",
       "        intro_len  \n",
       "0                  \n",
       "N55528         12  \n",
       "N19639         19  \n",
       "N61837         36  \n",
       "N53526         21  \n",
       "N38324         31  "
      ]
     },
     "execution_count": 69,
     "metadata": {},
     "output_type": "execute_result"
    }
   ],
   "source": [
    "news.head()"
   ]
  },
  {
   "cell_type": "code",
   "execution_count": null,
   "metadata": {},
   "outputs": [],
   "source": [
    "new"
   ]
  },
  {
   "cell_type": "code",
   "execution_count": 113,
   "metadata": {},
   "outputs": [
    {
     "data": {
      "text/plain": [
       "0\n",
       "N49553      \n",
       "N43595    []\n",
       "Name: 6, dtype: object"
      ]
     },
     "execution_count": 113,
     "metadata": {},
     "output_type": "execute_result"
    }
   ],
   "source": [
    "news.iloc[2173:2175,5]#.apply(lambda x:len(json.loads(x))==0)#].shape#.value_counts()\n"
   ]
  },
  {
   "cell_type": "code",
   "execution_count": 118,
   "metadata": {},
   "outputs": [
    {
     "data": {
      "text/plain": [
       "0\n",
       "N49553    []\n",
       "N43595    []\n",
       "Name: 6, dtype: object"
      ]
     },
     "execution_count": 118,
     "metadata": {},
     "output_type": "execute_result"
    }
   ],
   "source": [
    "news.iloc[2173:2175,5]#.apply(lambda x:len(json.loads(x))==0)#].shape#.value_counts()\n"
   ]
  },
  {
   "cell_type": "code",
   "execution_count": 119,
   "metadata": {},
   "outputs": [
    {
     "data": {
      "text/plain": [
       "(13829, 7)"
      ]
     },
     "execution_count": 119,
     "metadata": {},
     "output_type": "execute_result"
    }
   ],
   "source": [
    "news[news.iloc[:,6].apply(lambda x:len(json.loads(x))==0)].shape#.value_counts()"
   ]
  },
  {
   "cell_type": "code",
   "execution_count": 120,
   "metadata": {},
   "outputs": [
    {
     "data": {
      "text/html": [
       "<div>\n",
       "<style scoped>\n",
       "    .dataframe tbody tr th:only-of-type {\n",
       "        vertical-align: middle;\n",
       "    }\n",
       "\n",
       "    .dataframe tbody tr th {\n",
       "        vertical-align: top;\n",
       "    }\n",
       "\n",
       "    .dataframe thead th {\n",
       "        text-align: right;\n",
       "    }\n",
       "</style>\n",
       "<table border=\"1\" class=\"dataframe\">\n",
       "  <thead>\n",
       "    <tr style=\"text-align: right;\">\n",
       "      <th></th>\n",
       "      <th>1</th>\n",
       "      <th>2</th>\n",
       "      <th>3</th>\n",
       "      <th>4</th>\n",
       "      <th>5</th>\n",
       "      <th>6</th>\n",
       "      <th>7</th>\n",
       "    </tr>\n",
       "    <tr>\n",
       "      <th>0</th>\n",
       "      <th></th>\n",
       "      <th></th>\n",
       "      <th></th>\n",
       "      <th></th>\n",
       "      <th></th>\n",
       "      <th></th>\n",
       "      <th></th>\n",
       "    </tr>\n",
       "  </thead>\n",
       "  <tbody>\n",
       "  </tbody>\n",
       "</table>\n",
       "</div>"
      ],
      "text/plain": [
       "Empty DataFrame\n",
       "Columns: [1, 2, 3, 4, 5, 6, 7]\n",
       "Index: []"
      ]
     },
     "execution_count": 120,
     "metadata": {},
     "output_type": "execute_result"
    }
   ],
   "source": [
    "news[news.iloc[:,[0,1,2,4,5,6]].isna().any(axis=1)]"
   ]
  },
  {
   "cell_type": "code",
   "execution_count": 121,
   "metadata": {},
   "outputs": [
    {
     "data": {
      "text/plain": [
       "0\n",
       "N55528                                                   []\n",
       "N19639    [{'Label': 'Adipose tissue', 'Type': 'C', 'Wik...\n",
       "N61837    [{'Label': 'Ukraine', 'Type': 'G', 'WikidataId...\n",
       "N53526    [{'Label': 'National Basketball Association', ...\n",
       "N38324    [{'Label': 'Skin tag', 'Type': 'C', 'WikidataI...\n",
       "N2073     [{'Label': 'National Football League', 'Type':...\n",
       "N49186    [{'Label': 'Orlando, Florida', 'Type': 'G', 'W...\n",
       "N59295    [{'Label': 'Santiago', 'Type': 'G', 'WikidataI...\n",
       "N24510                                                   []\n",
       "N39237    [{'Label': 'WXII-TV', 'Type': 'M', 'WikidataId...\n",
       "Name: 7, dtype: object"
      ]
     },
     "execution_count": 121,
     "metadata": {},
     "output_type": "execute_result"
    }
   ],
   "source": [
    "news.iloc[:10,6].apply(lambda x:json.loads(x))"
   ]
  },
  {
   "cell_type": "code",
   "execution_count": null,
   "metadata": {},
   "outputs": [],
   "source": []
  },
  {
   "cell_type": "code",
   "execution_count": 122,
   "metadata": {},
   "outputs": [
    {
     "data": {
      "text/plain": [
       "'https://assets.msn.com/labs/mind/AAGH0ET.html'"
      ]
     },
     "execution_count": 122,
     "metadata": {},
     "output_type": "execute_result"
    }
   ],
   "source": [
    "news.iloc[0,4]"
   ]
  },
  {
   "cell_type": "code",
   "execution_count": 123,
   "metadata": {},
   "outputs": [
    {
     "data": {
      "text/plain": [
       "51282"
      ]
     },
     "execution_count": 123,
     "metadata": {},
     "output_type": "execute_result"
    }
   ],
   "source": [
    "len(news.index.unique())"
   ]
  },
  {
   "cell_type": "code",
   "execution_count": null,
   "metadata": {},
   "outputs": [],
   "source": []
  },
  {
   "cell_type": "code",
   "execution_count": null,
   "metadata": {},
   "outputs": [],
   "source": []
  },
  {
   "cell_type": "code",
   "execution_count": null,
   "metadata": {},
   "outputs": [],
   "source": []
  },
  {
   "cell_type": "code",
   "execution_count": null,
   "metadata": {},
   "outputs": [],
   "source": []
  },
  {
   "cell_type": "markdown",
   "metadata": {},
   "source": [
    "### entity embedding"
   ]
  },
  {
   "cell_type": "code",
   "execution_count": 125,
   "metadata": {},
   "outputs": [],
   "source": [
    "with open(\"MINDsmall_train/entity_embedding.vec\", \"r\") as ins:\n",
    "    entity_embed = []\n",
    "    for line in ins:\n",
    "        entity_embed.append(line)"
   ]
  },
  {
   "cell_type": "code",
   "execution_count": 126,
   "metadata": {},
   "outputs": [],
   "source": [
    "entity_embed = pd.read_csv('MINDsmall_train/entity_embedding.vec', delimiter='\\t', header=None, index_col=0)"
   ]
  },
  {
   "cell_type": "code",
   "execution_count": 127,
   "metadata": {},
   "outputs": [
    {
     "data": {
      "text/html": [
       "<div>\n",
       "<style scoped>\n",
       "    .dataframe tbody tr th:only-of-type {\n",
       "        vertical-align: middle;\n",
       "    }\n",
       "\n",
       "    .dataframe tbody tr th {\n",
       "        vertical-align: top;\n",
       "    }\n",
       "\n",
       "    .dataframe thead th {\n",
       "        text-align: right;\n",
       "    }\n",
       "</style>\n",
       "<table border=\"1\" class=\"dataframe\">\n",
       "  <thead>\n",
       "    <tr style=\"text-align: right;\">\n",
       "      <th></th>\n",
       "      <th>1</th>\n",
       "      <th>2</th>\n",
       "      <th>3</th>\n",
       "      <th>4</th>\n",
       "      <th>5</th>\n",
       "      <th>6</th>\n",
       "      <th>7</th>\n",
       "      <th>8</th>\n",
       "      <th>9</th>\n",
       "      <th>10</th>\n",
       "      <th>...</th>\n",
       "      <th>92</th>\n",
       "      <th>93</th>\n",
       "      <th>94</th>\n",
       "      <th>95</th>\n",
       "      <th>96</th>\n",
       "      <th>97</th>\n",
       "      <th>98</th>\n",
       "      <th>99</th>\n",
       "      <th>100</th>\n",
       "      <th>101</th>\n",
       "    </tr>\n",
       "    <tr>\n",
       "      <th>0</th>\n",
       "      <th></th>\n",
       "      <th></th>\n",
       "      <th></th>\n",
       "      <th></th>\n",
       "      <th></th>\n",
       "      <th></th>\n",
       "      <th></th>\n",
       "      <th></th>\n",
       "      <th></th>\n",
       "      <th></th>\n",
       "      <th></th>\n",
       "      <th></th>\n",
       "      <th></th>\n",
       "      <th></th>\n",
       "      <th></th>\n",
       "      <th></th>\n",
       "      <th></th>\n",
       "      <th></th>\n",
       "      <th></th>\n",
       "      <th></th>\n",
       "      <th></th>\n",
       "    </tr>\n",
       "  </thead>\n",
       "  <tbody>\n",
       "    <tr>\n",
       "      <th>Q41</th>\n",
       "      <td>-0.063388</td>\n",
       "      <td>-0.181451</td>\n",
       "      <td>0.057501</td>\n",
       "      <td>-0.091254</td>\n",
       "      <td>-0.076217</td>\n",
       "      <td>-0.052525</td>\n",
       "      <td>0.050500</td>\n",
       "      <td>-0.224871</td>\n",
       "      <td>-0.018145</td>\n",
       "      <td>0.030722</td>\n",
       "      <td>...</td>\n",
       "      <td>0.001861</td>\n",
       "      <td>0.124535</td>\n",
       "      <td>-0.151043</td>\n",
       "      <td>-0.263698</td>\n",
       "      <td>-0.103607</td>\n",
       "      <td>0.020007</td>\n",
       "      <td>-0.101157</td>\n",
       "      <td>-0.091567</td>\n",
       "      <td>0.035234</td>\n",
       "      <td>NaN</td>\n",
       "    </tr>\n",
       "    <tr>\n",
       "      <th>Q1860</th>\n",
       "      <td>0.060958</td>\n",
       "      <td>0.069934</td>\n",
       "      <td>0.015832</td>\n",
       "      <td>0.079471</td>\n",
       "      <td>-0.023362</td>\n",
       "      <td>-0.125007</td>\n",
       "      <td>-0.043618</td>\n",
       "      <td>0.134063</td>\n",
       "      <td>-0.121691</td>\n",
       "      <td>0.089166</td>\n",
       "      <td>...</td>\n",
       "      <td>-0.014287</td>\n",
       "      <td>0.013578</td>\n",
       "      <td>0.099977</td>\n",
       "      <td>0.012199</td>\n",
       "      <td>-0.141138</td>\n",
       "      <td>0.056129</td>\n",
       "      <td>-0.133727</td>\n",
       "      <td>0.025795</td>\n",
       "      <td>0.051448</td>\n",
       "      <td>NaN</td>\n",
       "    </tr>\n",
       "    <tr>\n",
       "      <th>Q39631</th>\n",
       "      <td>-0.093106</td>\n",
       "      <td>-0.052002</td>\n",
       "      <td>0.020556</td>\n",
       "      <td>-0.020801</td>\n",
       "      <td>0.043180</td>\n",
       "      <td>-0.072321</td>\n",
       "      <td>0.000910</td>\n",
       "      <td>0.028156</td>\n",
       "      <td>0.176303</td>\n",
       "      <td>0.035396</td>\n",
       "      <td>...</td>\n",
       "      <td>-0.086840</td>\n",
       "      <td>-0.078992</td>\n",
       "      <td>-0.062712</td>\n",
       "      <td>0.051117</td>\n",
       "      <td>-0.184307</td>\n",
       "      <td>0.127637</td>\n",
       "      <td>-0.144866</td>\n",
       "      <td>0.044690</td>\n",
       "      <td>0.013498</td>\n",
       "      <td>NaN</td>\n",
       "    </tr>\n",
       "    <tr>\n",
       "      <th>Q30</th>\n",
       "      <td>-0.115737</td>\n",
       "      <td>-0.179113</td>\n",
       "      <td>0.102739</td>\n",
       "      <td>-0.112469</td>\n",
       "      <td>-0.101853</td>\n",
       "      <td>-0.177516</td>\n",
       "      <td>0.015860</td>\n",
       "      <td>-0.092626</td>\n",
       "      <td>0.086708</td>\n",
       "      <td>0.057850</td>\n",
       "      <td>...</td>\n",
       "      <td>0.080511</td>\n",
       "      <td>-0.000085</td>\n",
       "      <td>-0.089968</td>\n",
       "      <td>-0.083486</td>\n",
       "      <td>-0.149992</td>\n",
       "      <td>-0.053031</td>\n",
       "      <td>-0.136071</td>\n",
       "      <td>-0.029001</td>\n",
       "      <td>0.174155</td>\n",
       "      <td>NaN</td>\n",
       "    </tr>\n",
       "    <tr>\n",
       "      <th>Q60</th>\n",
       "      <td>-0.051036</td>\n",
       "      <td>-0.165637</td>\n",
       "      <td>0.132802</td>\n",
       "      <td>-0.089949</td>\n",
       "      <td>-0.146637</td>\n",
       "      <td>-0.142246</td>\n",
       "      <td>0.103853</td>\n",
       "      <td>-0.129651</td>\n",
       "      <td>0.096265</td>\n",
       "      <td>0.017288</td>\n",
       "      <td>...</td>\n",
       "      <td>0.078628</td>\n",
       "      <td>0.003711</td>\n",
       "      <td>-0.058953</td>\n",
       "      <td>-0.154067</td>\n",
       "      <td>-0.117159</td>\n",
       "      <td>-0.031614</td>\n",
       "      <td>-0.140451</td>\n",
       "      <td>0.001288</td>\n",
       "      <td>0.140350</td>\n",
       "      <td>NaN</td>\n",
       "    </tr>\n",
       "  </tbody>\n",
       "</table>\n",
       "<p>5 rows × 101 columns</p>\n",
       "</div>"
      ],
      "text/plain": [
       "             1         2         3         4         5         6         7    \\\n",
       "0                                                                              \n",
       "Q41    -0.063388 -0.181451  0.057501 -0.091254 -0.076217 -0.052525  0.050500   \n",
       "Q1860   0.060958  0.069934  0.015832  0.079471 -0.023362 -0.125007 -0.043618   \n",
       "Q39631 -0.093106 -0.052002  0.020556 -0.020801  0.043180 -0.072321  0.000910   \n",
       "Q30    -0.115737 -0.179113  0.102739 -0.112469 -0.101853 -0.177516  0.015860   \n",
       "Q60    -0.051036 -0.165637  0.132802 -0.089949 -0.146637 -0.142246  0.103853   \n",
       "\n",
       "             8         9         10   ...       92        93        94   \\\n",
       "0                                     ...                                 \n",
       "Q41    -0.224871 -0.018145  0.030722  ...  0.001861  0.124535 -0.151043   \n",
       "Q1860   0.134063 -0.121691  0.089166  ... -0.014287  0.013578  0.099977   \n",
       "Q39631  0.028156  0.176303  0.035396  ... -0.086840 -0.078992 -0.062712   \n",
       "Q30    -0.092626  0.086708  0.057850  ...  0.080511 -0.000085 -0.089968   \n",
       "Q60    -0.129651  0.096265  0.017288  ...  0.078628  0.003711 -0.058953   \n",
       "\n",
       "             95        96        97        98        99        100  101  \n",
       "0                                                                        \n",
       "Q41    -0.263698 -0.103607  0.020007 -0.101157 -0.091567  0.035234  NaN  \n",
       "Q1860   0.012199 -0.141138  0.056129 -0.133727  0.025795  0.051448  NaN  \n",
       "Q39631  0.051117 -0.184307  0.127637 -0.144866  0.044690  0.013498  NaN  \n",
       "Q30    -0.083486 -0.149992 -0.053031 -0.136071 -0.029001  0.174155  NaN  \n",
       "Q60    -0.154067 -0.117159 -0.031614 -0.140451  0.001288  0.140350  NaN  \n",
       "\n",
       "[5 rows x 101 columns]"
      ]
     },
     "execution_count": 127,
     "metadata": {},
     "output_type": "execute_result"
    }
   ],
   "source": [
    "entity_embed.head()"
   ]
  },
  {
   "cell_type": "code",
   "execution_count": null,
   "metadata": {},
   "outputs": [],
   "source": []
  },
  {
   "cell_type": "code",
   "execution_count": 128,
   "metadata": {},
   "outputs": [
    {
     "data": {
      "text/plain": [
       "24390"
      ]
     },
     "execution_count": 128,
     "metadata": {},
     "output_type": "execute_result"
    }
   ],
   "source": [
    "\n",
    "len(entity_embed.iloc[:,0].unique())"
   ]
  },
  {
   "cell_type": "code",
   "execution_count": 129,
   "metadata": {},
   "outputs": [
    {
     "data": {
      "text/plain": [
       "26904"
      ]
     },
     "execution_count": 129,
     "metadata": {},
     "output_type": "execute_result"
    }
   ],
   "source": [
    "sum(entity_embed.iloc[:,100].isna())"
   ]
  },
  {
   "cell_type": "code",
   "execution_count": 130,
   "metadata": {},
   "outputs": [],
   "source": [
    "entity_embed.drop(101,inplace=True,axis=1)"
   ]
  },
  {
   "cell_type": "code",
   "execution_count": 131,
   "metadata": {},
   "outputs": [
    {
     "data": {
      "text/plain": [
       "(26904, 100)"
      ]
     },
     "execution_count": 131,
     "metadata": {},
     "output_type": "execute_result"
    }
   ],
   "source": [
    "entity_embed.shape"
   ]
  },
  {
   "cell_type": "code",
   "execution_count": null,
   "metadata": {},
   "outputs": [],
   "source": []
  },
  {
   "cell_type": "code",
   "execution_count": 132,
   "metadata": {},
   "outputs": [],
   "source": [
    "relations = pd.read_csv('MINDsmall_train/relation_embedding.vec', delimiter='\\t', header=None, index_col=0)"
   ]
  },
  {
   "cell_type": "code",
   "execution_count": 133,
   "metadata": {},
   "outputs": [
    {
     "data": {
      "text/plain": [
       "(1091, 101)"
      ]
     },
     "execution_count": 133,
     "metadata": {},
     "output_type": "execute_result"
    }
   ],
   "source": [
    "relations.shape"
   ]
  },
  {
   "cell_type": "code",
   "execution_count": 134,
   "metadata": {},
   "outputs": [
    {
     "data": {
      "text/plain": [
       "Int64Index([101], dtype='int64')"
      ]
     },
     "execution_count": 134,
     "metadata": {},
     "output_type": "execute_result"
    }
   ],
   "source": [
    "relations.columns[relations.isna().any()]"
   ]
  },
  {
   "cell_type": "code",
   "execution_count": 135,
   "metadata": {},
   "outputs": [
    {
     "data": {
      "text/html": [
       "<div>\n",
       "<style scoped>\n",
       "    .dataframe tbody tr th:only-of-type {\n",
       "        vertical-align: middle;\n",
       "    }\n",
       "\n",
       "    .dataframe tbody tr th {\n",
       "        vertical-align: top;\n",
       "    }\n",
       "\n",
       "    .dataframe thead th {\n",
       "        text-align: right;\n",
       "    }\n",
       "</style>\n",
       "<table border=\"1\" class=\"dataframe\">\n",
       "  <thead>\n",
       "    <tr style=\"text-align: right;\">\n",
       "      <th></th>\n",
       "      <th>1</th>\n",
       "      <th>2</th>\n",
       "      <th>3</th>\n",
       "      <th>4</th>\n",
       "      <th>5</th>\n",
       "      <th>6</th>\n",
       "      <th>7</th>\n",
       "      <th>8</th>\n",
       "      <th>9</th>\n",
       "      <th>10</th>\n",
       "      <th>...</th>\n",
       "      <th>92</th>\n",
       "      <th>93</th>\n",
       "      <th>94</th>\n",
       "      <th>95</th>\n",
       "      <th>96</th>\n",
       "      <th>97</th>\n",
       "      <th>98</th>\n",
       "      <th>99</th>\n",
       "      <th>100</th>\n",
       "      <th>101</th>\n",
       "    </tr>\n",
       "    <tr>\n",
       "      <th>0</th>\n",
       "      <th></th>\n",
       "      <th></th>\n",
       "      <th></th>\n",
       "      <th></th>\n",
       "      <th></th>\n",
       "      <th></th>\n",
       "      <th></th>\n",
       "      <th></th>\n",
       "      <th></th>\n",
       "      <th></th>\n",
       "      <th></th>\n",
       "      <th></th>\n",
       "      <th></th>\n",
       "      <th></th>\n",
       "      <th></th>\n",
       "      <th></th>\n",
       "      <th></th>\n",
       "      <th></th>\n",
       "      <th></th>\n",
       "      <th></th>\n",
       "      <th></th>\n",
       "    </tr>\n",
       "  </thead>\n",
       "  <tbody>\n",
       "    <tr>\n",
       "      <th>P31</th>\n",
       "      <td>-0.073467</td>\n",
       "      <td>-0.132227</td>\n",
       "      <td>0.034173</td>\n",
       "      <td>-0.032769</td>\n",
       "      <td>0.008289</td>\n",
       "      <td>-0.107088</td>\n",
       "      <td>-0.031712</td>\n",
       "      <td>-0.039581</td>\n",
       "      <td>0.101882</td>\n",
       "      <td>-0.106961</td>\n",
       "      <td>...</td>\n",
       "      <td>-0.050068</td>\n",
       "      <td>-0.053686</td>\n",
       "      <td>-0.045389</td>\n",
       "      <td>-0.037017</td>\n",
       "      <td>0.117190</td>\n",
       "      <td>-0.063597</td>\n",
       "      <td>-0.056910</td>\n",
       "      <td>0.058387</td>\n",
       "      <td>-0.114056</td>\n",
       "      <td>NaN</td>\n",
       "    </tr>\n",
       "    <tr>\n",
       "      <th>P21</th>\n",
       "      <td>-0.078436</td>\n",
       "      <td>0.108589</td>\n",
       "      <td>-0.049429</td>\n",
       "      <td>-0.131355</td>\n",
       "      <td>0.049300</td>\n",
       "      <td>-0.094605</td>\n",
       "      <td>-0.101469</td>\n",
       "      <td>0.127802</td>\n",
       "      <td>-0.081245</td>\n",
       "      <td>0.113759</td>\n",
       "      <td>...</td>\n",
       "      <td>0.074341</td>\n",
       "      <td>-0.030571</td>\n",
       "      <td>-0.137183</td>\n",
       "      <td>0.045598</td>\n",
       "      <td>-0.151155</td>\n",
       "      <td>-0.066223</td>\n",
       "      <td>0.057489</td>\n",
       "      <td>0.130188</td>\n",
       "      <td>-0.054801</td>\n",
       "      <td>NaN</td>\n",
       "    </tr>\n",
       "    <tr>\n",
       "      <th>P106</th>\n",
       "      <td>-0.052137</td>\n",
       "      <td>0.052444</td>\n",
       "      <td>-0.019886</td>\n",
       "      <td>-0.152309</td>\n",
       "      <td>0.014144</td>\n",
       "      <td>-0.180491</td>\n",
       "      <td>-0.132198</td>\n",
       "      <td>0.063082</td>\n",
       "      <td>0.085229</td>\n",
       "      <td>0.114965</td>\n",
       "      <td>...</td>\n",
       "      <td>-0.058958</td>\n",
       "      <td>-0.032021</td>\n",
       "      <td>-0.147213</td>\n",
       "      <td>0.082776</td>\n",
       "      <td>-0.169705</td>\n",
       "      <td>0.122445</td>\n",
       "      <td>-0.054737</td>\n",
       "      <td>0.055321</td>\n",
       "      <td>0.070961</td>\n",
       "      <td>NaN</td>\n",
       "    </tr>\n",
       "    <tr>\n",
       "      <th>P735</th>\n",
       "      <td>-0.051398</td>\n",
       "      <td>0.056219</td>\n",
       "      <td>0.068029</td>\n",
       "      <td>-0.137717</td>\n",
       "      <td>-0.030050</td>\n",
       "      <td>0.061566</td>\n",
       "      <td>-0.103184</td>\n",
       "      <td>-0.074124</td>\n",
       "      <td>-0.118975</td>\n",
       "      <td>0.122100</td>\n",
       "      <td>...</td>\n",
       "      <td>-0.092234</td>\n",
       "      <td>0.056870</td>\n",
       "      <td>0.013640</td>\n",
       "      <td>0.042696</td>\n",
       "      <td>0.013683</td>\n",
       "      <td>-0.021127</td>\n",
       "      <td>-0.189257</td>\n",
       "      <td>0.055315</td>\n",
       "      <td>0.101863</td>\n",
       "      <td>NaN</td>\n",
       "    </tr>\n",
       "    <tr>\n",
       "      <th>P108</th>\n",
       "      <td>0.091231</td>\n",
       "      <td>0.022526</td>\n",
       "      <td>0.059349</td>\n",
       "      <td>-0.141853</td>\n",
       "      <td>0.035025</td>\n",
       "      <td>-0.111040</td>\n",
       "      <td>-0.127337</td>\n",
       "      <td>0.047645</td>\n",
       "      <td>-0.172328</td>\n",
       "      <td>0.090933</td>\n",
       "      <td>...</td>\n",
       "      <td>-0.046994</td>\n",
       "      <td>-0.056248</td>\n",
       "      <td>-0.146538</td>\n",
       "      <td>0.121375</td>\n",
       "      <td>-0.211757</td>\n",
       "      <td>0.077591</td>\n",
       "      <td>-0.002200</td>\n",
       "      <td>-0.053880</td>\n",
       "      <td>0.140873</td>\n",
       "      <td>NaN</td>\n",
       "    </tr>\n",
       "  </tbody>\n",
       "</table>\n",
       "<p>5 rows × 101 columns</p>\n",
       "</div>"
      ],
      "text/plain": [
       "           1         2         3         4         5         6         7    \\\n",
       "0                                                                            \n",
       "P31  -0.073467 -0.132227  0.034173 -0.032769  0.008289 -0.107088 -0.031712   \n",
       "P21  -0.078436  0.108589 -0.049429 -0.131355  0.049300 -0.094605 -0.101469   \n",
       "P106 -0.052137  0.052444 -0.019886 -0.152309  0.014144 -0.180491 -0.132198   \n",
       "P735 -0.051398  0.056219  0.068029 -0.137717 -0.030050  0.061566 -0.103184   \n",
       "P108  0.091231  0.022526  0.059349 -0.141853  0.035025 -0.111040 -0.127337   \n",
       "\n",
       "           8         9         10   ...       92        93        94   \\\n",
       "0                                   ...                                 \n",
       "P31  -0.039581  0.101882 -0.106961  ... -0.050068 -0.053686 -0.045389   \n",
       "P21   0.127802 -0.081245  0.113759  ...  0.074341 -0.030571 -0.137183   \n",
       "P106  0.063082  0.085229  0.114965  ... -0.058958 -0.032021 -0.147213   \n",
       "P735 -0.074124 -0.118975  0.122100  ... -0.092234  0.056870  0.013640   \n",
       "P108  0.047645 -0.172328  0.090933  ... -0.046994 -0.056248 -0.146538   \n",
       "\n",
       "           95        96        97        98        99        100  101  \n",
       "0                                                                      \n",
       "P31  -0.037017  0.117190 -0.063597 -0.056910  0.058387 -0.114056  NaN  \n",
       "P21   0.045598 -0.151155 -0.066223  0.057489  0.130188 -0.054801  NaN  \n",
       "P106  0.082776 -0.169705  0.122445 -0.054737  0.055321  0.070961  NaN  \n",
       "P735  0.042696  0.013683 -0.021127 -0.189257  0.055315  0.101863  NaN  \n",
       "P108  0.121375 -0.211757  0.077591 -0.002200 -0.053880  0.140873  NaN  \n",
       "\n",
       "[5 rows x 101 columns]"
      ]
     },
     "execution_count": 135,
     "metadata": {},
     "output_type": "execute_result"
    }
   ],
   "source": [
    "relations.head()"
   ]
  },
  {
   "cell_type": "code",
   "execution_count": 136,
   "metadata": {},
   "outputs": [
    {
     "data": {
      "text/plain": [
       "1091"
      ]
     },
     "execution_count": 136,
     "metadata": {},
     "output_type": "execute_result"
    }
   ],
   "source": [
    "len(relations.index.unique())"
   ]
  },
  {
   "cell_type": "markdown",
   "metadata": {},
   "source": [
    "#### get embeddings"
   ]
  },
  {
   "cell_type": "code",
   "execution_count": 140,
   "metadata": {},
   "outputs": [],
   "source": [
    "doc_feature = pd.read_csv('data\\doc_feature.txt', sep=' ', header=None)"
   ]
  },
  {
   "cell_type": "code",
   "execution_count": 141,
   "metadata": {},
   "outputs": [
    {
     "data": {
      "text/html": [
       "<div>\n",
       "<style scoped>\n",
       "    .dataframe tbody tr th:only-of-type {\n",
       "        vertical-align: middle;\n",
       "    }\n",
       "\n",
       "    .dataframe tbody tr th {\n",
       "        vertical-align: top;\n",
       "    }\n",
       "\n",
       "    .dataframe thead th {\n",
       "        text-align: right;\n",
       "    }\n",
       "</style>\n",
       "<table border=\"1\" class=\"dataframe\">\n",
       "  <thead>\n",
       "    <tr style=\"text-align: right;\">\n",
       "      <th></th>\n",
       "      <th>0</th>\n",
       "      <th>1</th>\n",
       "      <th>2</th>\n",
       "    </tr>\n",
       "  </thead>\n",
       "  <tbody>\n",
       "    <tr>\n",
       "      <th>0</th>\n",
       "      <td>N55528</td>\n",
       "      <td>1,2,3,4,5,6,7,5,8,9</td>\n",
       "      <td>0,0,3,3,2,2,0,2,1,0</td>\n",
       "    </tr>\n",
       "    <tr>\n",
       "      <th>1</th>\n",
       "      <td>N19639</td>\n",
       "      <td>10,11,12,13,14,15,0,0,0,0</td>\n",
       "      <td>0,0,0,0,4,4,0,0,0,0</td>\n",
       "    </tr>\n",
       "    <tr>\n",
       "      <th>2</th>\n",
       "      <td>N61837</td>\n",
       "      <td>1,16,17,18,19,20,21,22,1,23</td>\n",
       "      <td>0,0,0,0,0,0,0,0,0,0</td>\n",
       "    </tr>\n",
       "    <tr>\n",
       "      <th>3</th>\n",
       "      <td>N53526</td>\n",
       "      <td>24,25,26,27,28,29,19,30,31,32</td>\n",
       "      <td>0,0,0,0,0,0,0,0,0,0</td>\n",
       "    </tr>\n",
       "    <tr>\n",
       "      <th>4</th>\n",
       "      <td>N38324</td>\n",
       "      <td>30,33,34,35,17,36,37,38,33,39</td>\n",
       "      <td>0,0,0,0,0,5,5,0,0,0</td>\n",
       "    </tr>\n",
       "  </tbody>\n",
       "</table>\n",
       "</div>"
      ],
      "text/plain": [
       "        0                              1                    2\n",
       "0  N55528            1,2,3,4,5,6,7,5,8,9  0,0,3,3,2,2,0,2,1,0\n",
       "1  N19639      10,11,12,13,14,15,0,0,0,0  0,0,0,0,4,4,0,0,0,0\n",
       "2  N61837    1,16,17,18,19,20,21,22,1,23  0,0,0,0,0,0,0,0,0,0\n",
       "3  N53526  24,25,26,27,28,29,19,30,31,32  0,0,0,0,0,0,0,0,0,0\n",
       "4  N38324  30,33,34,35,17,36,37,38,33,39  0,0,0,0,0,5,5,0,0,0"
      ]
     },
     "execution_count": 141,
     "metadata": {},
     "output_type": "execute_result"
    }
   ],
   "source": [
    "doc_feature.head()"
   ]
  },
  {
   "cell_type": "code",
   "execution_count": 146,
   "metadata": {},
   "outputs": [
    {
     "data": {
      "text/plain": [
       "'The Brands Queen Elizabeth, Prince Charles, and Prince Philip Swear By'"
      ]
     },
     "execution_count": 146,
     "metadata": {},
     "output_type": "execute_result"
    }
   ],
   "source": [
    "news.iloc[0,2]"
   ]
  },
  {
   "cell_type": "code",
   "execution_count": 147,
   "metadata": {},
   "outputs": [
    {
     "data": {
      "text/plain": [
       "'50 Worst Habits For Belly Fat'"
      ]
     },
     "execution_count": 147,
     "metadata": {},
     "output_type": "execute_result"
    }
   ],
   "source": [
    "news.iloc[1,2]"
   ]
  },
  {
   "cell_type": "code",
   "execution_count": 148,
   "metadata": {},
   "outputs": [
    {
     "data": {
      "text/plain": [
       "\"The Cost of Trump's Aid Freeze in the Trenches of Ukraine's War\""
      ]
     },
     "execution_count": 148,
     "metadata": {},
     "output_type": "execute_result"
    }
   ],
   "source": [
    "news.iloc[2,2]"
   ]
  },
  {
   "cell_type": "code",
   "execution_count": 150,
   "metadata": {},
   "outputs": [
    {
     "data": {
      "text/plain": [
       "\"I Was An NBA Wife. Here's How It Affected My Mental Health.\""
      ]
     },
     "execution_count": 150,
     "metadata": {},
     "output_type": "execute_result"
    }
   ],
   "source": [
    "news.iloc[3,2]"
   ]
  },
  {
   "cell_type": "code",
   "execution_count": 149,
   "metadata": {},
   "outputs": [
    {
     "data": {
      "text/plain": [
       "'How to Get Rid of Skin Tags, According to a Dermatologist'"
      ]
     },
     "execution_count": 149,
     "metadata": {},
     "output_type": "execute_result"
    }
   ],
   "source": [
    "news.iloc[4,2]"
   ]
  },
  {
   "cell_type": "code",
   "execution_count": null,
   "metadata": {},
   "outputs": [],
   "source": []
  }
 ],
 "metadata": {
  "kernelspec": {
   "display_name": "Python 3",
   "language": "python",
   "name": "python3"
  },
  "language_info": {
   "codemirror_mode": {
    "name": "ipython",
    "version": 3
   },
   "file_extension": ".py",
   "mimetype": "text/x-python",
   "name": "python",
   "nbconvert_exporter": "python",
   "pygments_lexer": "ipython3",
   "version": "3.6.9"
  }
 },
 "nbformat": 4,
 "nbformat_minor": 2
}

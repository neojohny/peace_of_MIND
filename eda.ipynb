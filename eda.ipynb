{
 "cells": [
  {
   "cell_type": "code",
   "execution_count": 1,
   "metadata": {},
   "outputs": [],
   "source": [
    "import pandas as pd\n",
    "import numpy as np"
   ]
  },
  {
   "cell_type": "code",
   "execution_count": 18,
   "metadata": {},
   "outputs": [],
   "source": [
    "behaviors = pd.read_csv('MINDsmall_train/behaviors.tsv', delimiter='\\t', header=None, index_col=0)"
   ]
  },
  {
   "cell_type": "code",
   "execution_count": 19,
   "metadata": {},
   "outputs": [
    {
     "data": {
      "text/html": [
       "<div>\n",
       "<style scoped>\n",
       "    .dataframe tbody tr th:only-of-type {\n",
       "        vertical-align: middle;\n",
       "    }\n",
       "\n",
       "    .dataframe tbody tr th {\n",
       "        vertical-align: top;\n",
       "    }\n",
       "\n",
       "    .dataframe thead th {\n",
       "        text-align: right;\n",
       "    }\n",
       "</style>\n",
       "<table border=\"1\" class=\"dataframe\">\n",
       "  <thead>\n",
       "    <tr style=\"text-align: right;\">\n",
       "      <th></th>\n",
       "      <th>1</th>\n",
       "      <th>2</th>\n",
       "      <th>3</th>\n",
       "      <th>4</th>\n",
       "    </tr>\n",
       "    <tr>\n",
       "      <th>0</th>\n",
       "      <th></th>\n",
       "      <th></th>\n",
       "      <th></th>\n",
       "      <th></th>\n",
       "    </tr>\n",
       "  </thead>\n",
       "  <tbody>\n",
       "    <tr>\n",
       "      <th>1</th>\n",
       "      <td>U13740</td>\n",
       "      <td>11/11/2019 9:05:58 AM</td>\n",
       "      <td>N55189 N42782 N34694 N45794 N18445 N63302 N104...</td>\n",
       "      <td>N55689-1 N35729-0</td>\n",
       "    </tr>\n",
       "    <tr>\n",
       "      <th>2</th>\n",
       "      <td>U91836</td>\n",
       "      <td>11/12/2019 6:11:30 PM</td>\n",
       "      <td>N31739 N6072 N63045 N23979 N35656 N43353 N8129...</td>\n",
       "      <td>N20678-0 N39317-0 N58114-0 N20495-0 N42977-0 N...</td>\n",
       "    </tr>\n",
       "    <tr>\n",
       "      <th>3</th>\n",
       "      <td>U73700</td>\n",
       "      <td>11/14/2019 7:01:48 AM</td>\n",
       "      <td>N10732 N25792 N7563 N21087 N41087 N5445 N60384...</td>\n",
       "      <td>N50014-0 N23877-0 N35389-0 N49712-0 N16844-0 N...</td>\n",
       "    </tr>\n",
       "    <tr>\n",
       "      <th>4</th>\n",
       "      <td>U34670</td>\n",
       "      <td>11/11/2019 5:28:05 AM</td>\n",
       "      <td>N45729 N2203 N871 N53880 N41375 N43142 N33013 ...</td>\n",
       "      <td>N35729-0 N33632-0 N49685-1 N27581-0</td>\n",
       "    </tr>\n",
       "    <tr>\n",
       "      <th>5</th>\n",
       "      <td>U8125</td>\n",
       "      <td>11/12/2019 4:11:21 PM</td>\n",
       "      <td>N10078 N56514 N14904 N33740</td>\n",
       "      <td>N39985-0 N36050-0 N16096-0 N8400-1 N22407-0 N6...</td>\n",
       "    </tr>\n",
       "  </tbody>\n",
       "</table>\n",
       "</div>"
      ],
      "text/plain": [
       "        1                      2  \\\n",
       "0                                  \n",
       "1  U13740  11/11/2019 9:05:58 AM   \n",
       "2  U91836  11/12/2019 6:11:30 PM   \n",
       "3  U73700  11/14/2019 7:01:48 AM   \n",
       "4  U34670  11/11/2019 5:28:05 AM   \n",
       "5   U8125  11/12/2019 4:11:21 PM   \n",
       "\n",
       "                                                   3  \\\n",
       "0                                                      \n",
       "1  N55189 N42782 N34694 N45794 N18445 N63302 N104...   \n",
       "2  N31739 N6072 N63045 N23979 N35656 N43353 N8129...   \n",
       "3  N10732 N25792 N7563 N21087 N41087 N5445 N60384...   \n",
       "4  N45729 N2203 N871 N53880 N41375 N43142 N33013 ...   \n",
       "5                        N10078 N56514 N14904 N33740   \n",
       "\n",
       "                                                   4  \n",
       "0                                                     \n",
       "1                                  N55689-1 N35729-0  \n",
       "2  N20678-0 N39317-0 N58114-0 N20495-0 N42977-0 N...  \n",
       "3  N50014-0 N23877-0 N35389-0 N49712-0 N16844-0 N...  \n",
       "4                N35729-0 N33632-0 N49685-1 N27581-0  \n",
       "5  N39985-0 N36050-0 N16096-0 N8400-1 N22407-0 N6...  "
      ]
     },
     "execution_count": 19,
     "metadata": {},
     "output_type": "execute_result"
    }
   ],
   "source": [
    "\n",
    "behaviors.head()"
   ]
  },
  {
   "cell_type": "code",
   "execution_count": 20,
   "metadata": {},
   "outputs": [
    {
     "data": {
      "text/plain": [
       "(156965, 4)"
      ]
     },
     "execution_count": 20,
     "metadata": {},
     "output_type": "execute_result"
    }
   ],
   "source": [
    "behavior.shape"
   ]
  },
  {
   "cell_type": "code",
   "execution_count": 39,
   "metadata": {},
   "outputs": [
    {
     "data": {
      "text/plain": [
       "1    False\n",
       "2    False\n",
       "3     True\n",
       "4    False\n",
       "dtype: bool"
      ]
     },
     "execution_count": 39,
     "metadata": {},
     "output_type": "execute_result"
    }
   ],
   "source": [
    "behaviors.isna().any()"
   ]
  },
  {
   "cell_type": "code",
   "execution_count": 47,
   "metadata": {},
   "outputs": [
    {
     "data": {
      "text/plain": [
       "'N20678-0 N39317-0 N58114-0 N20495-0 N42977-0 N22407-0 N14592-0 N17059-1 N33677-0 N7821-0 N6890-0'"
      ]
     },
     "execution_count": 47,
     "metadata": {},
     "output_type": "execute_result"
    }
   ],
   "source": [
    "behaviors.iloc[1,3]"
   ]
  },
  {
   "cell_type": "code",
   "execution_count": 41,
   "metadata": {},
   "outputs": [
    {
     "data": {
      "text/html": [
       "<div>\n",
       "<style scoped>\n",
       "    .dataframe tbody tr th:only-of-type {\n",
       "        vertical-align: middle;\n",
       "    }\n",
       "\n",
       "    .dataframe tbody tr th {\n",
       "        vertical-align: top;\n",
       "    }\n",
       "\n",
       "    .dataframe thead th {\n",
       "        text-align: right;\n",
       "    }\n",
       "</style>\n",
       "<table border=\"1\" class=\"dataframe\">\n",
       "  <thead>\n",
       "    <tr style=\"text-align: right;\">\n",
       "      <th></th>\n",
       "      <th>1</th>\n",
       "      <th>2</th>\n",
       "      <th>3</th>\n",
       "      <th>4</th>\n",
       "    </tr>\n",
       "    <tr>\n",
       "      <th>0</th>\n",
       "      <th></th>\n",
       "      <th></th>\n",
       "      <th></th>\n",
       "      <th></th>\n",
       "    </tr>\n",
       "  </thead>\n",
       "  <tbody>\n",
       "    <tr>\n",
       "      <th>29</th>\n",
       "      <td>U33207</td>\n",
       "      <td>11/11/2019 11:09:14 AM</td>\n",
       "      <td>NaN</td>\n",
       "      <td>N62212-0 N27521-0 N28983-0 N12028-0 N25437-0 N...</td>\n",
       "    </tr>\n",
       "    <tr>\n",
       "      <th>97</th>\n",
       "      <td>U89839</td>\n",
       "      <td>11/11/2019 4:57:51 AM</td>\n",
       "      <td>NaN</td>\n",
       "      <td>N12042-0 N35729-0 N49685-0 N62729-1</td>\n",
       "    </tr>\n",
       "    <tr>\n",
       "      <th>156</th>\n",
       "      <td>U5598</td>\n",
       "      <td>11/13/2019 2:01:40 PM</td>\n",
       "      <td>NaN</td>\n",
       "      <td>N7121-0 N37437-0 N53861-0 N45891-0 N21141-0 N5...</td>\n",
       "    </tr>\n",
       "    <tr>\n",
       "      <th>195</th>\n",
       "      <td>U19208</td>\n",
       "      <td>11/11/2019 3:57:34 PM</td>\n",
       "      <td>NaN</td>\n",
       "      <td>N23414-1 N52474-0 N6099-0 N5980-0 N1914-0</td>\n",
       "    </tr>\n",
       "    <tr>\n",
       "      <th>258</th>\n",
       "      <td>U6879</td>\n",
       "      <td>11/14/2019 5:33:52 PM</td>\n",
       "      <td>NaN</td>\n",
       "      <td>N9284-0 N23391-0 N42849-0 N33828-0 N57081-0 N2...</td>\n",
       "    </tr>\n",
       "    <tr>\n",
       "      <th>...</th>\n",
       "      <td>...</td>\n",
       "      <td>...</td>\n",
       "      <td>...</td>\n",
       "      <td>...</td>\n",
       "    </tr>\n",
       "    <tr>\n",
       "      <th>156851</th>\n",
       "      <td>U85936</td>\n",
       "      <td>11/10/2019 8:52:02 AM</td>\n",
       "      <td>NaN</td>\n",
       "      <td>N41140-1 N4148-0</td>\n",
       "    </tr>\n",
       "    <tr>\n",
       "      <th>156891</th>\n",
       "      <td>U4828</td>\n",
       "      <td>11/11/2019 9:41:21 AM</td>\n",
       "      <td>NaN</td>\n",
       "      <td>N8957-0 N60162-0 N16804-0 N24180-0 N31370-0 N2...</td>\n",
       "    </tr>\n",
       "    <tr>\n",
       "      <th>156898</th>\n",
       "      <td>U38290</td>\n",
       "      <td>11/14/2019 3:50:07 PM</td>\n",
       "      <td>NaN</td>\n",
       "      <td>N59267-0 N12446-0 N53031-0 N3380-0 N56211-0 N5...</td>\n",
       "    </tr>\n",
       "    <tr>\n",
       "      <th>156922</th>\n",
       "      <td>U64209</td>\n",
       "      <td>11/11/2019 7:11:07 AM</td>\n",
       "      <td>NaN</td>\n",
       "      <td>N35729-0 N15830-0 N48759-0 N21519-1 N27581-0 N...</td>\n",
       "    </tr>\n",
       "    <tr>\n",
       "      <th>156936</th>\n",
       "      <td>U35188</td>\n",
       "      <td>11/11/2019 1:39:46 PM</td>\n",
       "      <td>NaN</td>\n",
       "      <td>N13930-0 N55204-0 N38662-0 N53585-1 N55689-0</td>\n",
       "    </tr>\n",
       "  </tbody>\n",
       "</table>\n",
       "<p>3238 rows × 4 columns</p>\n",
       "</div>"
      ],
      "text/plain": [
       "             1                       2    3  \\\n",
       "0                                             \n",
       "29      U33207  11/11/2019 11:09:14 AM  NaN   \n",
       "97      U89839   11/11/2019 4:57:51 AM  NaN   \n",
       "156      U5598   11/13/2019 2:01:40 PM  NaN   \n",
       "195     U19208   11/11/2019 3:57:34 PM  NaN   \n",
       "258      U6879   11/14/2019 5:33:52 PM  NaN   \n",
       "...        ...                     ...  ...   \n",
       "156851  U85936   11/10/2019 8:52:02 AM  NaN   \n",
       "156891   U4828   11/11/2019 9:41:21 AM  NaN   \n",
       "156898  U38290   11/14/2019 3:50:07 PM  NaN   \n",
       "156922  U64209   11/11/2019 7:11:07 AM  NaN   \n",
       "156936  U35188   11/11/2019 1:39:46 PM  NaN   \n",
       "\n",
       "                                                        4  \n",
       "0                                                          \n",
       "29      N62212-0 N27521-0 N28983-0 N12028-0 N25437-0 N...  \n",
       "97                    N12042-0 N35729-0 N49685-0 N62729-1  \n",
       "156     N7121-0 N37437-0 N53861-0 N45891-0 N21141-0 N5...  \n",
       "195             N23414-1 N52474-0 N6099-0 N5980-0 N1914-0  \n",
       "258     N9284-0 N23391-0 N42849-0 N33828-0 N57081-0 N2...  \n",
       "...                                                   ...  \n",
       "156851                                   N41140-1 N4148-0  \n",
       "156891  N8957-0 N60162-0 N16804-0 N24180-0 N31370-0 N2...  \n",
       "156898  N59267-0 N12446-0 N53031-0 N3380-0 N56211-0 N5...  \n",
       "156922  N35729-0 N15830-0 N48759-0 N21519-1 N27581-0 N...  \n",
       "156936       N13930-0 N55204-0 N38662-0 N53585-1 N55689-0  \n",
       "\n",
       "[3238 rows x 4 columns]"
      ]
     },
     "execution_count": 41,
     "metadata": {},
     "output_type": "execute_result"
    }
   ],
   "source": [
    "behaviors[behaviors.isna().any(axis=1)]"
   ]
  },
  {
   "cell_type": "code",
   "execution_count": 38,
   "metadata": {},
   "outputs": [
    {
     "data": {
      "text/plain": [
       "50000"
      ]
     },
     "execution_count": 38,
     "metadata": {},
     "output_type": "execute_result"
    }
   ],
   "source": [
    "len(behaviors.iloc[:,0].unique())"
   ]
  },
  {
   "cell_type": "code",
   "execution_count": null,
   "metadata": {},
   "outputs": [],
   "source": []
  },
  {
   "cell_type": "code",
   "execution_count": 23,
   "metadata": {},
   "outputs": [
    {
     "data": {
      "text/plain": [
       "'N55189 N42782 N34694 N45794 N18445 N63302 N10414 N19347 N31801'"
      ]
     },
     "execution_count": 23,
     "metadata": {},
     "output_type": "execute_result"
    }
   ],
   "source": [
    "behaviors.iloc[0,2]"
   ]
  },
  {
   "cell_type": "code",
   "execution_count": 28,
   "metadata": {},
   "outputs": [
    {
     "data": {
      "text/plain": [
       "Timestamp('2019-11-11 09:05:58')"
      ]
     },
     "execution_count": 28,
     "metadata": {},
     "output_type": "execute_result"
    }
   ],
   "source": [
    "\n",
    "pd.Timestamp(behaviors.iloc[0,1])"
   ]
  },
  {
   "cell_type": "code",
   "execution_count": 31,
   "metadata": {},
   "outputs": [
    {
     "data": {
      "text/plain": [
       "Timestamp('2019-11-11 09:05:58')"
      ]
     },
     "execution_count": 31,
     "metadata": {},
     "output_type": "execute_result"
    }
   ],
   "source": [
    "pd.to_datetime(behaviors.iloc[:,1]).iloc[0]"
   ]
  },
  {
   "cell_type": "code",
   "execution_count": 32,
   "metadata": {},
   "outputs": [],
   "source": [
    "news = pd.read_csv('MINDsmall_train/news.tsv', delimiter='\\t', header=None, index_col=0)"
   ]
  },
  {
   "cell_type": "code",
   "execution_count": 33,
   "metadata": {},
   "outputs": [
    {
     "data": {
      "text/html": [
       "<div>\n",
       "<style scoped>\n",
       "    .dataframe tbody tr th:only-of-type {\n",
       "        vertical-align: middle;\n",
       "    }\n",
       "\n",
       "    .dataframe tbody tr th {\n",
       "        vertical-align: top;\n",
       "    }\n",
       "\n",
       "    .dataframe thead th {\n",
       "        text-align: right;\n",
       "    }\n",
       "</style>\n",
       "<table border=\"1\" class=\"dataframe\">\n",
       "  <thead>\n",
       "    <tr style=\"text-align: right;\">\n",
       "      <th></th>\n",
       "      <th>1</th>\n",
       "      <th>2</th>\n",
       "      <th>3</th>\n",
       "      <th>4</th>\n",
       "      <th>5</th>\n",
       "      <th>6</th>\n",
       "      <th>7</th>\n",
       "    </tr>\n",
       "    <tr>\n",
       "      <th>0</th>\n",
       "      <th></th>\n",
       "      <th></th>\n",
       "      <th></th>\n",
       "      <th></th>\n",
       "      <th></th>\n",
       "      <th></th>\n",
       "      <th></th>\n",
       "    </tr>\n",
       "  </thead>\n",
       "  <tbody>\n",
       "    <tr>\n",
       "      <th>N55528</th>\n",
       "      <td>lifestyle</td>\n",
       "      <td>lifestyleroyals</td>\n",
       "      <td>The Brands Queen Elizabeth, Prince Charles, an...</td>\n",
       "      <td>Shop the notebooks, jackets, and more that the...</td>\n",
       "      <td>https://assets.msn.com/labs/mind/AAGH0ET.html</td>\n",
       "      <td>[{\"Label\": \"Prince Philip, Duke of Edinburgh\",...</td>\n",
       "      <td>[]</td>\n",
       "    </tr>\n",
       "    <tr>\n",
       "      <th>N19639</th>\n",
       "      <td>health</td>\n",
       "      <td>weightloss</td>\n",
       "      <td>50 Worst Habits For Belly Fat</td>\n",
       "      <td>These seemingly harmless habits are holding yo...</td>\n",
       "      <td>https://assets.msn.com/labs/mind/AAB19MK.html</td>\n",
       "      <td>[{\"Label\": \"Adipose tissue\", \"Type\": \"C\", \"Wik...</td>\n",
       "      <td>[{\"Label\": \"Adipose tissue\", \"Type\": \"C\", \"Wik...</td>\n",
       "    </tr>\n",
       "    <tr>\n",
       "      <th>N61837</th>\n",
       "      <td>news</td>\n",
       "      <td>newsworld</td>\n",
       "      <td>The Cost of Trump's Aid Freeze in the Trenches...</td>\n",
       "      <td>Lt. Ivan Molchanets peeked over a parapet of s...</td>\n",
       "      <td>https://assets.msn.com/labs/mind/AAJgNsz.html</td>\n",
       "      <td>[]</td>\n",
       "      <td>[{\"Label\": \"Ukraine\", \"Type\": \"G\", \"WikidataId...</td>\n",
       "    </tr>\n",
       "    <tr>\n",
       "      <th>N53526</th>\n",
       "      <td>health</td>\n",
       "      <td>voices</td>\n",
       "      <td>I Was An NBA Wife. Here's How It Affected My M...</td>\n",
       "      <td>I felt like I was a fraud, and being an NBA wi...</td>\n",
       "      <td>https://assets.msn.com/labs/mind/AACk2N6.html</td>\n",
       "      <td>[]</td>\n",
       "      <td>[{\"Label\": \"National Basketball Association\", ...</td>\n",
       "    </tr>\n",
       "    <tr>\n",
       "      <th>N38324</th>\n",
       "      <td>health</td>\n",
       "      <td>medical</td>\n",
       "      <td>How to Get Rid of Skin Tags, According to a De...</td>\n",
       "      <td>They seem harmless, but there's a very good re...</td>\n",
       "      <td>https://assets.msn.com/labs/mind/AAAKEkt.html</td>\n",
       "      <td>[{\"Label\": \"Skin tag\", \"Type\": \"C\", \"WikidataI...</td>\n",
       "      <td>[{\"Label\": \"Skin tag\", \"Type\": \"C\", \"WikidataI...</td>\n",
       "    </tr>\n",
       "  </tbody>\n",
       "</table>\n",
       "</div>"
      ],
      "text/plain": [
       "                1                2  \\\n",
       "0                                    \n",
       "N55528  lifestyle  lifestyleroyals   \n",
       "N19639     health       weightloss   \n",
       "N61837       news        newsworld   \n",
       "N53526     health           voices   \n",
       "N38324     health          medical   \n",
       "\n",
       "                                                        3  \\\n",
       "0                                                           \n",
       "N55528  The Brands Queen Elizabeth, Prince Charles, an...   \n",
       "N19639                      50 Worst Habits For Belly Fat   \n",
       "N61837  The Cost of Trump's Aid Freeze in the Trenches...   \n",
       "N53526  I Was An NBA Wife. Here's How It Affected My M...   \n",
       "N38324  How to Get Rid of Skin Tags, According to a De...   \n",
       "\n",
       "                                                        4  \\\n",
       "0                                                           \n",
       "N55528  Shop the notebooks, jackets, and more that the...   \n",
       "N19639  These seemingly harmless habits are holding yo...   \n",
       "N61837  Lt. Ivan Molchanets peeked over a parapet of s...   \n",
       "N53526  I felt like I was a fraud, and being an NBA wi...   \n",
       "N38324  They seem harmless, but there's a very good re...   \n",
       "\n",
       "                                                    5  \\\n",
       "0                                                       \n",
       "N55528  https://assets.msn.com/labs/mind/AAGH0ET.html   \n",
       "N19639  https://assets.msn.com/labs/mind/AAB19MK.html   \n",
       "N61837  https://assets.msn.com/labs/mind/AAJgNsz.html   \n",
       "N53526  https://assets.msn.com/labs/mind/AACk2N6.html   \n",
       "N38324  https://assets.msn.com/labs/mind/AAAKEkt.html   \n",
       "\n",
       "                                                        6  \\\n",
       "0                                                           \n",
       "N55528  [{\"Label\": \"Prince Philip, Duke of Edinburgh\",...   \n",
       "N19639  [{\"Label\": \"Adipose tissue\", \"Type\": \"C\", \"Wik...   \n",
       "N61837                                                 []   \n",
       "N53526                                                 []   \n",
       "N38324  [{\"Label\": \"Skin tag\", \"Type\": \"C\", \"WikidataI...   \n",
       "\n",
       "                                                        7  \n",
       "0                                                          \n",
       "N55528                                                 []  \n",
       "N19639  [{\"Label\": \"Adipose tissue\", \"Type\": \"C\", \"Wik...  \n",
       "N61837  [{\"Label\": \"Ukraine\", \"Type\": \"G\", \"WikidataId...  \n",
       "N53526  [{\"Label\": \"National Basketball Association\", ...  \n",
       "N38324  [{\"Label\": \"Skin tag\", \"Type\": \"C\", \"WikidataI...  "
      ]
     },
     "execution_count": 33,
     "metadata": {},
     "output_type": "execute_result"
    }
   ],
   "source": [
    "news.head()"
   ]
  },
  {
   "cell_type": "code",
   "execution_count": 49,
   "metadata": {},
   "outputs": [
    {
     "data": {
      "text/plain": [
       "'https://assets.msn.com/labs/mind/AAGH0ET.html'"
      ]
     },
     "execution_count": 49,
     "metadata": {},
     "output_type": "execute_result"
    }
   ],
   "source": [
    "news.iloc[0,4]"
   ]
  },
  {
   "cell_type": "code",
   "execution_count": 53,
   "metadata": {},
   "outputs": [
    {
     "data": {
      "text/plain": [
       "[10000, 200]"
      ]
     },
     "execution_count": 53,
     "metadata": {},
     "output_type": "execute_result"
    }
   ],
   "source": [
    "aa = [1,2]#,3,4]\n",
    "bb = [100,200]\n",
    "aa = bb\n",
    "for i in range(len(aa)):\n",
    "    aa[i] = bb[i]\n",
    "bb[0] = 10000\n",
    "aa"
   ]
  },
  {
   "cell_type": "code",
   "execution_count": null,
   "metadata": {},
   "outputs": [],
   "source": []
  }
 ],
 "metadata": {
  "kernelspec": {
   "display_name": "Python 3",
   "language": "python",
   "name": "python3"
  },
  "language_info": {
   "codemirror_mode": {
    "name": "ipython",
    "version": 3
   },
   "file_extension": ".py",
   "mimetype": "text/x-python",
   "name": "python",
   "nbconvert_exporter": "python",
   "pygments_lexer": "ipython3",
   "version": "3.6.9"
  }
 },
 "nbformat": 4,
 "nbformat_minor": 2
}
